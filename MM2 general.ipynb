{
  "nbformat": 4,
  "nbformat_minor": 0,
  "metadata": {
    "colab": {
      "provenance": [],
      "authorship_tag": "ABX9TyNt4ZaGR2HZnimJCHCpYzZy",
      "include_colab_link": true
    },
    "kernelspec": {
      "name": "python3",
      "display_name": "Python 3"
    },
    "language_info": {
      "name": "python"
    }
  },
  "cells": [
    {
      "cell_type": "markdown",
      "metadata": {
        "id": "view-in-github",
        "colab_type": "text"
      },
      "source": [
        "<a href=\"https://colab.research.google.com/github/BartBennett/SimStudent/blob/main/MM2%20general.ipynb\" target=\"_parent\"><img src=\"https://colab.research.google.com/assets/colab-badge.svg\" alt=\"Open In Colab\"/></a>"
      ]
    },
    {
      "cell_type": "code",
      "execution_count": 1,
      "metadata": {
        "id": "3tForqX1kP5J"
      },
      "outputs": [],
      "source": [
        "import numpy as np"
      ]
    },
    {
      "cell_type": "code",
      "source": [
        "#system state\n",
        "number_in_the_system = 0\n",
        "\n",
        "#entity attributes\n",
        "class customer:\n",
        "    def __init__(self, customer_ID, arrival_time, service_time, departure_time):\n",
        "        self.customer_ID = customer_ID\n",
        "        self.arrival_time = arrival_time\n",
        "        self.service_time = service_time\n",
        "        self.departure_time = departure_time\n",
        "\n",
        "customers = []\n",
        "person_served: int = -1\n",
        "\n",
        "#resource\n",
        "rho = 0 #server utilization\n",
        "last_departure = 0\n",
        "\n",
        "#events\n",
        "class event:\n",
        "    def __init__(self, sim_time, event_type, customer_ID):\n",
        "        self.sim_time = sim_time\n",
        "        self.event_type = event_type\n",
        "        self.customer_ID: int = customer_ID\n",
        "\n",
        "event_queue = []\n",
        "event_queue.append(event(np.random.exponential(3.0), \"Arrival\", 0))\n",
        "\n",
        "#sets\n",
        "queue = []\n",
        "\n",
        "#timing\n",
        "max_time = 500\n",
        "sim_time = 0\n",
        "\n",
        "while event_queue[0].sim_time <= max_time:\n",
        "    sim_time = event_queue[0].sim_time\n",
        "    if event_queue[0].event_type == \"Arrival\":\n",
        "        number_in_the_system += 1\n",
        "        customers = np.append(customers, customer(event_queue[0].customer_ID, sim_time, 0, 0))\n",
        "        event_queue.append(event(sim_time + np.random.exponential(3.0), \"Arrival\", event_queue[0].customer_ID+1))\n",
        "        if number_in_the_system == 1:\n",
        "            #print(\"Time: \", sim_time, \" Arrival with immediate service: \", event_queue[0].customer_ID)\n",
        "            person_served = event_queue[0].customer_ID\n",
        "            customers[person_served].service_time = sim_time\n",
        "            event_queue.append(event(sim_time + np.random.exponential(2.0), \"Departure\", event_queue[0].customer_ID))\n",
        "        else:\n",
        "            #print(\"Time: \", sim_time, \" Arrival waiting in queue: \", event_queue[0].customer_ID)\n",
        "            queue = np.append(queue, event_queue[0].customer_ID)\n",
        "    else:   \n",
        "        number_in_the_system -= 1\n",
        "        customers[person_served].departure_time = sim_time\n",
        "        if number_in_the_system != 0:\n",
        "            #print(\"Time: \", sim_time, \" Departure: \", person_served, \" Serving: \", queue[0])\n",
        "            person_served = int(queue[0])\n",
        "            queue = np.delete(queue, 0)\n",
        "            customers[person_served].service_time = sim_time\n",
        "            event_queue.append(event(sim_time + np.random.exponential(2.0), \"Departure\", person_served))\n",
        "        else:\n",
        "            #print(\"Time: \", sim_time, \" Departure: \", person_served, \" system empty\")\n",
        "            person_served: int = -1\n",
        "    del event_queue[0]\n",
        "    event_queue.sort(key = lambda x : x.sim_time) \n",
        "\n",
        "last_arrival = customers[-1].customer_ID\n",
        "if person_served == -1:\n",
        "    person_served = last_arrival\n",
        "else:\n",
        "    person_served -= 1\n",
        "last_departure = last_arrival   \n",
        "while customers[last_departure].departure_time == 0:\n",
        "    last_departure -= 1\n",
        "\n",
        "sum_person_time = sum(customers[c].departure_time - customers[c].arrival_time for c in range(0,last_departure))\n",
        "sum_person_queue_time = sum(customers[c].service_time - customers[c].arrival_time for c in range(0,person_served))\n",
        "print(\"L = \",sum_person_time/customers[last_departure].departure_time)\n",
        "print(\"Lq = \",sum_person_queue_time/customers[person_served].service_time)\n",
        "print(\"W = \",sum_person_time/last_departure)\n",
        "print(\"Wq = \",sum_person_queue_time/person_served)"
      ],
      "metadata": {
        "id": "9ZPZv8llzWWW",
        "outputId": "576c874e-7c19-48b5-e168-1581ff702b55",
        "colab": {
          "base_uri": "https://localhost:8080/"
        }
      },
      "execution_count": 14,
      "outputs": [
        {
          "output_type": "stream",
          "name": "stdout",
          "text": [
            "L =  2.6289140861187117\n",
            "Lq =  2.0131069690869365\n",
            "W =  8.224644697681642\n",
            "Wq =  6.293703635509626\n"
          ]
        }
      ]
    }
  ]
}