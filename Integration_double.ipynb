{
  "nbformat": 4,
  "nbformat_minor": 0,
  "metadata": {
    "colab": {
      "provenance": [],
      "authorship_tag": "ABX9TyM9ywIwXnlRradm8jkgmD2p",
      "include_colab_link": true
    },
    "kernelspec": {
      "name": "python3",
      "display_name": "Python 3"
    },
    "language_info": {
      "name": "python"
    }
  },
  "cells": [
    {
      "cell_type": "markdown",
      "metadata": {
        "id": "view-in-github",
        "colab_type": "text"
      },
      "source": [
        "<a href=\"https://colab.research.google.com/github/BartBennett/SimStudent/blob/main/Integration_double.ipynb\" target=\"_parent\"><img src=\"https://colab.research.google.com/assets/colab-badge.svg\" alt=\"Open In Colab\"/></a>"
      ]
    },
    {
      "cell_type": "code",
      "execution_count": 1,
      "metadata": {
        "id": "yRctqX0iKZO4"
      },
      "outputs": [],
      "source": [
        "import numpy as np\n",
        "import random\n",
        "import math\n",
        "import matplotlib.pyplot as plt"
      ]
    },
    {
      "cell_type": "markdown",
      "source": [
        "$$\\int_{2}^4\\int_{x}^{x^2} \\sqrt[]{y}\\,(1-\\sqrt[]{y})\\,e^{\\sqrt[]{x}}\\,dxdy$$"
      ],
      "metadata": {
        "id": "TprgrLMWYwL9"
      }
    },
    {
      "cell_type": "code",
      "source": [
        "#constants\n",
        "darts = 100000\n",
        "num_in = 0\n",
        "\n",
        "def func(x, y):\n",
        "    return (math.sqrt(y)+y)*math.exp(math.sqrt(math.sqrt(x)))\n",
        "\n",
        "#print(func(2,2))\n",
        "#print(func(2,16))\n",
        "#print(func(4,2))\n",
        "#print(func(4,16))\n",
        "\n",
        "for dart in range(darts):\n",
        "  x = random.uniform(2,4)\n",
        "  y = random.uniform(2,16)\n",
        "  z = random.uniform(11,83)\n",
        "  if z < func(x,y):\n",
        "      num_in+=1\n",
        "\n",
        "#length*width*height*probability\n",
        "print(2*14*72*num_in/darts)\n",
        "\n",
        "#fig=plt.figure()\n",
        "#ax=fig.add_subplot()\n",
        "#ax.set_aspect(4)\n",
        "#plt.scatter(red_dots_x,red_dots_y, s=0.1,c=\"red\")\n",
        "#plt.scatter(blue_dots_x,blue_dots_y, s=0.1,c=\"blue\")\n",
        "#plt.show()"
      ],
      "metadata": {
        "colab": {
          "base_uri": "https://localhost:8080/"
        },
        "id": "hzDwyFzxMI5Y",
        "outputId": "0e0b3fe1-f3ec-4929-bb64-b6c6a2d43e02"
      },
      "execution_count": 10,
      "outputs": [
        {
          "output_type": "stream",
          "name": "stdout",
          "text": [
            "929.69856\n"
          ]
        }
      ]
    }
  ]
}