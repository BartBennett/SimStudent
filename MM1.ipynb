{
  "nbformat": 4,
  "nbformat_minor": 0,
  "metadata": {
    "colab": {
      "provenance": [],
      "authorship_tag": "ABX9TyPSO9EDRyb/VO8rpypBDxM/",
      "include_colab_link": true
    },
    "kernelspec": {
      "name": "python3",
      "display_name": "Python 3"
    },
    "language_info": {
      "name": "python"
    }
  },
  "cells": [
    {
      "cell_type": "markdown",
      "metadata": {
        "id": "view-in-github",
        "colab_type": "text"
      },
      "source": [
        "<a href=\"https://colab.research.google.com/github/BartBennett/SimStudent/blob/main/MM1.ipynb\" target=\"_parent\"><img src=\"https://colab.research.google.com/assets/colab-badge.svg\" alt=\"Open In Colab\"/></a>"
      ]
    },
    {
      "cell_type": "code",
      "execution_count": 3,
      "metadata": {
        "id": "3tForqX1kP5J"
      },
      "outputs": [],
      "source": [
        "import numpy as np"
      ]
    },
    {
      "cell_type": "code",
      "source": [
        "#system state\n",
        "number_in_the_system = 0\n",
        "\n",
        "#entity attributes\n",
        "customer_ID = 0\n",
        "arrival_time = []\n",
        "service_time = []\n",
        "departure_time = []\n",
        "\n",
        "#resource\n",
        "person_served = -1\n",
        "rho = 0 #server utilization\n",
        "last_departure = 0\n",
        "\n",
        "#events\n",
        "next_arrival = np.random.exponential(3.0)\n",
        "next_departure = next_arrival + np.random.exponential(2.0)\n",
        "\n",
        "#sets\n",
        "queue = []\n",
        "\n",
        "#timing\n",
        "max_time = 50\n",
        "sim_time = 0\n",
        "\n",
        "while next_arrival <= max_time or next_departure <= max_time:\n",
        "    if next_arrival <= next_departure:\n",
        "        sim_time = next_arrival\n",
        "        number_in_the_system += 1\n",
        "        customer_ID += 1\n",
        "        arrival_time = np.append(arrival_time, sim_time)\n",
        "        next_arrival = sim_time + np.random.exponential(3.0)\n",
        "        if number_in_the_system == 1:\n",
        "            print(\"Time: \", sim_time, \" Arrival with immediate service: \", customer_ID)\n",
        "            person_served = customer_ID\n",
        "            service_time = np.append(service_time, sim_time)\n",
        "            if customer_ID != 1:\n",
        "                next_departure = sim_time + np.random.exponential(2.0)\n",
        "        else:\n",
        "            print(\"Time: \", sim_time, \" Arrival waiting in queue: \", customer_ID)\n",
        "            queue = np.append(queue, customer_ID)\n",
        "    else:   \n",
        "        sim_time = next_departure\n",
        "        number_in_the_system -= 1\n",
        "        departure_time = np.append(departure_time, sim_time)\n",
        "        if number_in_the_system != 0:\n",
        "            print(\"Time: \", sim_time, \" Departure: \", person_served, \" Serving: \", queue[0])\n",
        "            person_served = queue[0]\n",
        "            queue = np.delete(queue, 0)\n",
        "            service_time = np.append(service_time, sim_time)\n",
        "            next_departure = sim_time + np.random.exponential(2.0)\n",
        "        else:\n",
        "            print(\"Time: \", sim_time, \" Departure: \", person_served, \" system empty\")\n",
        "            person_served = -1\n",
        "            next_departure = max_time + 1"
      ],
      "metadata": {
        "id": "9ZPZv8llzWWW",
        "outputId": "f46a892e-273c-4847-a83e-97d1f0806a26",
        "colab": {
          "base_uri": "https://localhost:8080/"
        }
      },
      "execution_count": 13,
      "outputs": [
        {
          "output_type": "stream",
          "name": "stdout",
          "text": [
            "Time:  1.1311547500964725  Arrival with immediate service:  1\n",
            "Time:  2.2248301544034206  Departure:  1  system empty\n",
            "Time:  8.208619490667477  Arrival with immediate service:  2\n",
            "Time:  8.294956233536151  Arrival waiting in queue:  3\n",
            "Time:  9.010559294367479  Departure:  2  Serving:  3.0\n",
            "Time:  12.01571532653647  Departure:  3.0  system empty\n",
            "Time:  16.819060937842558  Arrival with immediate service:  4\n",
            "Time:  17.431138817445422  Arrival waiting in queue:  5\n",
            "Time:  21.143453682867914  Arrival waiting in queue:  6\n",
            "Time:  21.684765406136812  Departure:  4  Serving:  5.0\n",
            "Time:  23.150473692043153  Departure:  5.0  Serving:  6.0\n",
            "Time:  23.860276096755705  Departure:  6.0  system empty\n",
            "Time:  24.71255764561286  Arrival with immediate service:  7\n",
            "Time:  24.891409767260036  Departure:  7  system empty\n",
            "Time:  25.05297072184631  Arrival with immediate service:  8\n",
            "Time:  25.68170149641955  Departure:  8  system empty\n",
            "Time:  26.440371244019367  Arrival with immediate service:  9\n",
            "Time:  26.699452454807854  Arrival waiting in queue:  10\n",
            "Time:  27.701098092236123  Arrival waiting in queue:  11\n",
            "Time:  28.693244944184258  Arrival waiting in queue:  12\n",
            "Time:  35.73252636201536  Arrival waiting in queue:  13\n",
            "Time:  36.81667734938257  Departure:  9  Serving:  10.0\n",
            "Time:  39.148794295970845  Departure:  10.0  Serving:  11.0\n",
            "Time:  40.12693996770939  Departure:  11.0  Serving:  12.0\n",
            "Time:  40.15058632227657  Arrival waiting in queue:  14\n",
            "Time:  40.65331732674758  Departure:  12.0  Serving:  13.0\n",
            "Time:  41.43227383625786  Arrival waiting in queue:  15\n",
            "Time:  41.96222529680051  Arrival waiting in queue:  16\n",
            "Time:  41.994286696579444  Departure:  13.0  Serving:  14.0\n",
            "Time:  43.95814056794732  Departure:  14.0  Serving:  15.0\n",
            "Time:  44.82091323503044  Departure:  15.0  Serving:  16.0\n",
            "Time:  46.23336631813387  Arrival waiting in queue:  17\n",
            "Time:  48.17173174951512  Departure:  16.0  Serving:  17.0\n",
            "Time:  48.42126542859892  Arrival waiting in queue:  18\n",
            "Time:  49.03011452127589  Arrival waiting in queue:  19\n"
          ]
        }
      ]
    }
  ]
}