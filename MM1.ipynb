{
  "nbformat": 4,
  "nbformat_minor": 0,
  "metadata": {
    "colab": {
      "provenance": [],
      "authorship_tag": "ABX9TyO3sNSjLgq+9RarsTb5ikH4",
      "include_colab_link": true
    },
    "kernelspec": {
      "name": "python3",
      "display_name": "Python 3"
    },
    "language_info": {
      "name": "python"
    }
  },
  "cells": [
    {
      "cell_type": "markdown",
      "metadata": {
        "id": "view-in-github",
        "colab_type": "text"
      },
      "source": [
        "<a href=\"https://colab.research.google.com/github/BartBennett/SimStudent/blob/main/MM1.ipynb\" target=\"_parent\"><img src=\"https://colab.research.google.com/assets/colab-badge.svg\" alt=\"Open In Colab\"/></a>"
      ]
    },
    {
      "cell_type": "code",
      "execution_count": 1,
      "metadata": {
        "id": "3tForqX1kP5J"
      },
      "outputs": [],
      "source": [
        "import numpy as np"
      ]
    },
    {
      "cell_type": "code",
      "source": [
        "#system state\n",
        "number_in_the_system = 0\n",
        "\n",
        "#entity attributes\n",
        "customer_ID = 0\n",
        "arrival_time = []\n",
        "service_time = []\n",
        "departure_time = []\n",
        "\n",
        "#resource\n",
        "person_served = -1\n",
        "rho = 0 #server utilization\n",
        "last_departure = 0\n",
        "\n",
        "#events\n",
        "next_arrival = np.random.exponential(3.0)\n",
        "next_departure = next_arrival + np.random.exponential(2.0)\n",
        "\n",
        "#sets\n",
        "queue = []\n",
        "\n",
        "#timing\n",
        "max_time = 500000\n",
        "sim_time = 0\n",
        "\n",
        "while next_arrival <= max_time or next_departure <= max_time:\n",
        "    if next_arrival <= next_departure:\n",
        "        sim_time = next_arrival\n",
        "        number_in_the_system += 1\n",
        "        customer_ID += 1\n",
        "        arrival_time = np.append(arrival_time, sim_time)\n",
        "        next_arrival = sim_time + np.random.exponential(3.0)\n",
        "        if number_in_the_system == 1:\n",
        "            #print(\"Time: \", sim_time, \" Arrival with immediate service: \", customer_ID)\n",
        "            person_served = customer_ID\n",
        "            service_time = np.append(service_time, sim_time)\n",
        "            if customer_ID != 1:\n",
        "                next_departure = sim_time + np.random.exponential(2.0)\n",
        "        else:\n",
        "            #print(\"Time: \", sim_time, \" Arrival waiting in queue: \", customer_ID)\n",
        "            queue = np.append(queue, customer_ID)\n",
        "    else:   \n",
        "        sim_time = next_departure\n",
        "        number_in_the_system -= 1\n",
        "        departure_time = np.append(departure_time, sim_time)\n",
        "        if number_in_the_system != 0:\n",
        "            #print(\"Time: \", sim_time, \" Departure: \", person_served, \" Serving: \", queue[0])\n",
        "            person_served = queue[0]\n",
        "            queue = np.delete(queue, 0)\n",
        "            service_time = np.append(service_time, sim_time)\n",
        "            next_departure = sim_time + np.random.exponential(2.0)\n",
        "        else:\n",
        "            #print(\"Time: \", sim_time, \" Departure: \", person_served, \" system empty\")\n",
        "            person_served = -1\n",
        "            next_departure = max_time + 1\n",
        "\n",
        "print(\"L = \",sum(departure_time - arrival_time[:len(departure_time)])/departure_time[-1])\n",
        "print(\"Lq = \",sum(service_time - arrival_time[:len(service_time)])/service_time[-1])\n",
        "print(\"W = \",sum(departure_time - arrival_time[:len(departure_time)])/len(departure_time))\n",
        "print(\"Wq = \",sum(service_time - arrival_time[:len(service_time)])/len(service_time))"
      ],
      "metadata": {
        "id": "9ZPZv8llzWWW",
        "outputId": "049e309d-27a6-431d-86f2-0e34e50cb1a2",
        "colab": {
          "base_uri": "https://localhost:8080/"
        }
      },
      "execution_count": 7,
      "outputs": [
        {
          "output_type": "stream",
          "name": "stdout",
          "text": [
            "L =  2.002476982938085\n",
            "Lq =  1.3376333638173108\n",
            "W =  6.017120001242469\n",
            "Wq =  4.019368306853303\n"
          ]
        }
      ]
    }
  ]
}