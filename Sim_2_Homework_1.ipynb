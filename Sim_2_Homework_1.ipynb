{
  "nbformat": 4,
  "nbformat_minor": 0,
  "metadata": {
    "colab": {
      "provenance": [],
      "include_colab_link": true
    },
    "kernelspec": {
      "name": "python3",
      "display_name": "Python 3"
    },
    "language_info": {
      "name": "python"
    }
  },
  "cells": [
    {
      "cell_type": "markdown",
      "metadata": {
        "id": "view-in-github",
        "colab_type": "text"
      },
      "source": [
        "<a href=\"https://colab.research.google.com/github/BartBennett/SimStudent/blob/main/Sim_2_Homework_1.ipynb\" target=\"_parent\"><img src=\"https://colab.research.google.com/assets/colab-badge.svg\" alt=\"Open In Colab\"/></a>"
      ]
    },
    {
      "cell_type": "markdown",
      "source": [
        "#SIMULATION 2\n",
        "##HOMEWORK 1: Queues\n",
        "\n",
        "Due: In class on Friday, May 26, 2023\n",
        "\n",
        "Name: Your name here\n",
        "\n",
        "Overall score: _____ / 37 pts"
      ],
      "metadata": {
        "id": "WUZYZOak1nrM"
      }
    },
    {
      "cell_type": "markdown",
      "source": [
        "#### 1.\t[12 points] In this problem, we will explore what happens when a different probability distribution is used for the interarrival time. In each case, let the mean service time ($\\frac{1}{μ}$) be 1.0, the service time distribution be exponential, and the number of servers (s) be one. Also, use a random number seed of 118 and run the simulation for 1,000 time units.\n",
        "\n",
        "a) Change the queueing simulation we developed in class to a Python function of λ and μ (these are rates!) with the values of L, W, Lq, Wq, and ρ returned by the function. Use the exponential distribution for the interarrival time, fill out this table and put your code below. [4 points]\n",
        "\n",
        "$\\frac{1}{λ}$  |L     |W      |Lq     |Wq    |ρ                    \n",
        "---------------|-------|-------|-------|-------|-------\n",
        "2.00           |       |       |       |       |        \n",
        "1.50           |       |       |       |       |           \n",
        "1.10           |       |       |       |       |       \n",
        "1.05           |       |       |       |       |          "
      ],
      "metadata": {
        "id": "dWa4DHKk1xY7"
      }
    },
    {
      "cell_type": "code",
      "source": [
        " Put code and results here"
      ],
      "metadata": {
        "id": "2FjfFHKElxxh"
      },
      "execution_count": null,
      "outputs": []
    },
    {
      "cell_type": "markdown",
      "source": [
        "b) Using a controlling routine outside the queueing calculation function, loop through the values of $\\frac{1}{λ}$ from 1.01 to 1.5 in steps of 0.01 and plot the results for Lq.  [3 pts]"
      ],
      "metadata": {
        "id": "qmQ6TObU44EC"
      }
    },
    {
      "cell_type": "code",
      "source": [
        "Put code and results here"
      ],
      "metadata": {
        "id": "Nu4EHtyVtvhG"
      },
      "execution_count": null,
      "outputs": []
    },
    {
      "cell_type": "markdown",
      "source": [
        "c) Change the arrival distribution to a beta distribution with parameters a = 0.5 and b = 0.5 (see the numpy.random.beta function). Note: unlike numpy.random.exponential, the numpy.random.beta function provides random numbers only on the interval (0, 1) and has the mean $\\frac{a}{a+b}$. To get a beta distribution with mean M, it is necessary to multiply the numpy.random.beta function by $\\frac{a+b}{a}$*M.  \n",
        "\n",
        "We wish to compare the outcomes of the queueing model for the inerarrival times with the exponential distribution and with the beta distribution when their **means are equal**. Repeat the plot in b) and include a curve with the results from interarrivals with the beta districution.    [2 pts]"
      ],
      "metadata": {
        "id": "DwUXxqJp5Cwz"
      }
    },
    {
      "cell_type": "code",
      "source": [
        "Put code and results here"
      ],
      "metadata": {
        "id": "-n9fFkBC0cf2"
      },
      "execution_count": null,
      "outputs": []
    },
    {
      "cell_type": "markdown",
      "source": [
        "d) Consider the case where λ = 1.05.  Use the queueing simulation to fill out the following table. Explain, in general terms, why the shape of arrival distribution has the observed impact on the queueing model results. [3 points]\n",
        "\n",
        "Distribution|a     |b     |L     |W     |Lq    |Wq    |ρ                    \n",
        "------------|------|------|------|------|------|------|------\n",
        "Exponential |-     |-     |      |      |      |      |        \n",
        "Beta        |0.5   |0.5   |      |      |      |      |            \n",
        "Beta        |5.0   |1.0   |      |      |      |      |            \n",
        "Beta        |1.0   |5.0   |      |      |      |      |                   "
      ],
      "metadata": {
        "id": "licGBhdHJ0xW"
      }
    },
    {
      "cell_type": "markdown",
      "source": [
        "Include your explanation here."
      ],
      "metadata": {
        "id": "b9_2O1jmXvyk"
      }
    },
    {
      "cell_type": "markdown",
      "source": [
        "2) [10 points] In this problem, we will see what happens with different service time distributions. In each case, let the mean interarrival time ($\\frac{1}{λ}$) be 2.0, the interarrival time distribution be exponential, and the number of servers (s) be one. Also, use a random number seed of 118 and run the simulation for 1,000 time units.\n",
        "\n",
        "a) Use the exponential distribution for the service time and fill out this table and put your code below. [2 points]\n",
        "\n",
        "$\\frac{1}{λ}$  |L     |W      |Lq     |Wq    |ρ                    \n",
        "---------------|-------|-------|-------|-------|-------\n",
        "1.00           |       |       |       |       |        \n",
        "1.50           |       |       |       |       |           \n",
        "1.90           |       |       |       |       |       \n",
        "1.95           |       |       |       |       |          \n"
      ],
      "metadata": {
        "id": "sGtCUkrevP2f"
      }
    },
    {
      "cell_type": "markdown",
      "source": [
        "b) Using a controlling routine outside the queueing calculation function, loop through the values of $\\frac{1}{μ}$ from 1.50 to 1.95 in steps of 0.01 and plot the results for Lq. [2 pts]"
      ],
      "metadata": {
        "id": "Mom_RejmZsMA"
      }
    },
    {
      "cell_type": "code",
      "source": [
        "Put your plot here"
      ],
      "metadata": {
        "id": "x1i6NrCJc7ur"
      },
      "execution_count": null,
      "outputs": []
    },
    {
      "cell_type": "markdown",
      "source": [
        "c) Change the service time distribution to a uniform distribution with a lower bound 25% below the mean and an upper bound 25% above the mean.  We wish to compare the outcomes of the queueing model for the service times with the exponential distribution and with the uniform distribution when their means are equal. Repeat the plot in b) and include a curve with the results from service times with the uniform districution. [2 pts]"
      ],
      "metadata": {
        "id": "yPg9GuvYdKjo"
      }
    },
    {
      "cell_type": "code",
      "source": [
        "Put your plot here"
      ],
      "metadata": {
        "id": "DdY_CKbGd8kz"
      },
      "execution_count": null,
      "outputs": []
    },
    {
      "cell_type": "markdown",
      "source": [
        "d) Now add a curve to the plot in c) where the service times are constant with the same vaule as the means of the other plots. Explain what you observe. [4 pts]"
      ],
      "metadata": {
        "id": "LYS75c5reAcd"
      }
    },
    {
      "cell_type": "code",
      "source": [],
      "metadata": {
        "id": "9eYDVqWzegVP"
      },
      "execution_count": null,
      "outputs": []
    },
    {
      "cell_type": "code",
      "source": [
        "Put your plot here"
      ],
      "metadata": {
        "id": "in3M5ziOeU2U"
      },
      "execution_count": null,
      "outputs": []
    },
    {
      "cell_type": "markdown",
      "source": [
        "Put your explanation here."
      ],
      "metadata": {
        "id": "AcbfshpBedlB"
      }
    },
    {
      "cell_type": "markdown",
      "source": [
        "3)\t[15 points] The Department of Motor Vehicle (DMV) would like to increase the efficiency of its operations.  Everyone coming into the DMV office must first wait in the \"sign-in\" line. Currently, they have 1 person who takes, on average, 5 minutes to perform the sign-in tasks.  Assume that, on average, 250 people enter the DMV during the business day from 8am to 5pm.  Assume the inter-arrival and service times are exponentially distributed.\n",
        "\n",
        "a)\tDescribe how you will define this as a queueing problem. [3 points]  \n"
      ],
      "metadata": {
        "id": "xpFLdAlxey2e"
      }
    },
    {
      "cell_type": "markdown",
      "source": [
        "Put your answer here"
      ],
      "metadata": {
        "id": "8dcQ4MVbfZhf"
      }
    },
    {
      "cell_type": "markdown",
      "source": [
        "\n",
        "c) How long, on average, do people wait in the line before getting service and how many people are in the system at 5pm?  [4 points]"
      ],
      "metadata": {
        "id": "LAn0FeD5fxMr"
      }
    },
    {
      "cell_type": "markdown",
      "source": [
        "Put your answer here"
      ],
      "metadata": {
        "id": "H7Gd5G_IgbZi"
      }
    },
    {
      "cell_type": "markdown",
      "source": [
        "The DMV is thinking about adding 2 extra sign-in stations.  They realize they could design the line for the sign-in process in two ways.  The first way is to have a single line with the person at the head of the line served by the next available server (a single-channel queue).  The second way is to have people line up behind one of the servers when they first come in (a multi-channel queue).  Let's assume that no one gets discouraged and leaves (either balking or reneging) and everyone stays in the line they initially join (no jockeying).\n",
        "\n",
        "d) Extend the two-server simulation we did in class to a three-server model in which people pick the shortest line to enter when they first come in the DMV. Ties in the shortest line length are broken randomly. [4 points]\n"
      ],
      "metadata": {
        "id": "t0xKvvnIgeHs"
      }
    },
    {
      "cell_type": "code",
      "source": [
        "Provide your code here"
      ],
      "metadata": {
        "id": "kcTtgVOUfYiF"
      },
      "execution_count": null,
      "outputs": []
    },
    {
      "cell_type": "markdown",
      "source": [
        "e) Describe how you will set up a simulation experiment to obtain observations for comparing the single- and multi-channel systems. What method do yo use to determine a statistically valid result? [2 points]"
      ],
      "metadata": {
        "id": "KsDyUR_piilN"
      }
    },
    {
      "cell_type": "markdown",
      "source": [
        "Put your answer here"
      ],
      "metadata": {
        "id": "1gELnWWfjLYT"
      }
    },
    {
      "cell_type": "markdown",
      "source": [
        "f) Which system is better? Why? [2 points]"
      ],
      "metadata": {
        "id": "wAo6bCtJjQjr"
      }
    },
    {
      "cell_type": "markdown",
      "source": [
        "Put your answer here"
      ],
      "metadata": {
        "id": "2V7ppb7ujbNY"
      }
    }
  ]
}