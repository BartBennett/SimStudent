{
  "nbformat": 4,
  "nbformat_minor": 0,
  "metadata": {
    "colab": {
      "provenance": [],
      "include_colab_link": true
    },
    "kernelspec": {
      "name": "python3",
      "display_name": "Python 3"
    },
    "language_info": {
      "name": "python"
    }
  },
  "cells": [
    {
      "cell_type": "markdown",
      "metadata": {
        "id": "view-in-github",
        "colab_type": "text"
      },
      "source": [
        "<a href=\"https://colab.research.google.com/github/BartBennett/SimStudent/blob/main/Sim_2_Homework_3.ipynb\" target=\"_parent\"><img src=\"https://colab.research.google.com/assets/colab-badge.svg\" alt=\"Open In Colab\"/></a>"
      ]
    },
    {
      "cell_type": "markdown",
      "source": [
        "#SIMULATION 2\n",
        "##HOMEWORK 3: Experimental Design and Inventory Simulation\n",
        "\n",
        "Due: In class on Friday, June 16, 2023\n",
        "\n",
        "Name: Your name here\n",
        "\n",
        "Overall score: _____ / 30 pts"
      ],
      "metadata": {
        "id": "WUZYZOak1nrM"
      }
    },
    {
      "cell_type": "markdown",
      "source": [
        "1)\t[16 points] In class, I introduced an (s, Q) inventory simulation. Below, I have created a finished version of the simulation with the following characteristics:\n",
        "\n",
        "• Demand occurs randomly with an exponential distribution with mean 0.1 months.\\\n",
        "• The quantity demanded is 1, 2, 3, or 4 with probabilities 1/6, 1/3, 1/3, and 1/6 respectively.\\\n",
        "• Holding cost is \\$1/per item/month \\\n",
        "• Shortage cost is \\$5/per item/month\\\n",
        "• Order cost is $32 per order. I neglected to also include a\\$3 per item delivery cost.\n",
        "\n",
        "In this initial version, inventory is continuously reviewed and there is no leadtime between ordering and recieving a delivery.  This means that any time the demand reduces the inventory below the reorder point, s, an order is made and the inventory is instantly increased to s + Q.\n",
        "\n",
        "The simulation is run for 10 years. Because of the random demand, 30 replications are performed for each case.  The cases are defined for various values of s and Q.  For each, there is a minimum, maximum, and increment.  So, for example, s_min = 0, s_max = 10, s_inc = 5, Q_min = 10, Q_max = 20, and Q_inc = 10 will create the following 6 cases for (s, Q): \\\n",
        "\n",
        "(0, 10), (0, 20), (5, 10), (5, 20), (10, 10), (10, 20)\n",
        "\n",
        "After the simulation itself, I have included code for a contour plot that helps in visualizing the result.\n",
        "\n",
        "a) Run four cases with the combinations of s = -50 and 50, and Q = 10 and 110. From these four cases, what values of s and Q appear to minimize cost? (2 points)\n"
      ],
      "metadata": {
        "id": "xpFLdAlxey2e"
      }
    },
    {
      "cell_type": "code",
      "source": [
        "import numpy as np\n",
        "import matplotlib.pyplot as plt\n",
        "\n",
        "def demand_quantity():\n",
        "\t#Determine the demand\n",
        "\tprob = np.random.uniform(0, 1.0)\n",
        "\tif prob < 1/6:\n",
        "\t\treturn 1\n",
        "\telif prob < 0.5:\n",
        "\t\treturn 2\n",
        "\telif prob < 5/6:\n",
        "\t\treturn 3\n",
        "\telse:\n",
        "\t\treturn 4\n",
        "\n",
        "def demand_event(s, Q, demand):\n",
        "\tglobal inventory\n",
        "\tglobal cost\n",
        "\tglobal order_cost\n",
        "\tglobal per_item_cost\n",
        "\tglobal event_queue\n",
        "\tglobal sim_time\n",
        "  #Calculating the inventory/shortage cost\n",
        "\tinventory_cost()\n",
        "\t#Determine if an order is needed\n",
        "\tif inventory - demand <= s:\n",
        "\t\tshipped = s + Q - inventory + demand\n",
        "\t\tcost += order_cost + shipped * per_item_cost\n",
        "\t\tinventory = s + Q\n",
        "\telse:\n",
        "\t\tinventory -= demand\n",
        "\t#Schedule next demand\n",
        "\tevent_queue.append(event(sim_time + np.random.exponential(0.1), \"Demand\", demand_quantity()))\n",
        "\n",
        "def inventory_cost():\n",
        "\tglobal inventory\n",
        "\tglobal holding_cost\n",
        "\tglobal shortage_cost\n",
        "\tglobal cost\n",
        "\tglobal last_costing\n",
        "\tglobal sim_time\n",
        "\tif inventory > 0:\n",
        "\t\tcost += inventory * (sim_time - last_costing) * holding_cost\n",
        "\telse:\n",
        "\t\tcost -= inventory * (sim_time - last_costing) * shortage_cost\n",
        "\tlast_costing = sim_time\n",
        "\n",
        "def sQ_inventory_system(s, Q):\n",
        "\tglobal inventory\n",
        "\tglobal cost\n",
        "\tglobal last_costing\n",
        "\tglobal orders\n",
        "\tglobal order_cost\n",
        "\tglobal event_queue\n",
        "\tglobal sim_time\n",
        "\tglobal max_sim_time\n",
        "\n",
        "\tinventory = s + Q\n",
        "\tcost = 0\n",
        "\tlast_costing = 0\n",
        "\torders = 0\n",
        "\n",
        "\tevent_queue = []\n",
        "\tevent_queue.append(event(np.random.exponential(0.1), \"Demand\", demand_quantity()))\n",
        "\n",
        "\t#timing\n",
        "\tsim_time = 0\n",
        "\tmax_sim_time = 120\n",
        "  \n",
        "\twhile sim_time <= max_sim_time:\n",
        "\t\tsim_time = event_queue[0].sim_time\n",
        "\t\tif event_queue[0].event_type == \"Demand\":\n",
        "\t\t\t\tdemand_event(s, Q, event_queue[0].quantity)\n",
        "\t\tdel event_queue[0]\n",
        "\treturn cost/max_sim_time\n",
        "\n",
        "#Inventory system paramenters\n",
        "s_min = 0\n",
        "s_max = 10\n",
        "s_inc = 5\n",
        "s_list = []\n",
        "Q_min = 10\n",
        "Q_max = 20\n",
        "Q_inc = 10\n",
        "Q_list = []\n",
        "holding_cost = 1\n",
        "shortage_cost = 5\n",
        "order_cost = 32\n",
        "per_item_cost = 3\n",
        "\n",
        "#events\n",
        "class event:\n",
        "  def __init__(self, sim_time, event_type, quantity):\n",
        "    self.sim_time = sim_time\n",
        "    self.event_type = event_type\n",
        "    self.quantity = quantity\n",
        "\n",
        "aver_costs = []\n",
        "\n",
        "for s in range(s_min, s_max+1, s_inc):\n",
        "\tfor Q in range(Q_min, Q_max+1, Q_inc):\n",
        "\t\ts_list.append(s)\n",
        "\t\tQ_list.append(Q)\n",
        "\t\tcosts = []\n",
        "\t\tfor rep in range(30):\n",
        "\t\t\tcosts.append(sQ_inventory_system(s, Q))\n",
        "\t\taver_costs.append(np.average(costs))\n",
        "\t\n",
        "fig1, ax1 = plt.subplots()\n",
        "ax1.set_aspect('equal')\n",
        "tcf = ax1.tricontourf(s_list, Q_list, aver_costs)\n",
        "fig1.colorbar(tcf)\n",
        "ax1.tricontour(s_list, Q_list, aver_costs, colors='k')\n",
        "ax1.set_xlabel('s')\n",
        "ax1.set_ylabel('Q')\n",
        "ax1.set_title('(s, Q) Inventory Simulation');"
      ],
      "metadata": {
        "colab": {
          "base_uri": "https://localhost:8080/",
          "height": 472
        },
        "id": "mxUTFTenwsiS",
        "outputId": "8a21cab7-fa05-4fd2-fb36-67c49b91563f"
      },
      "execution_count": 5,
      "outputs": [
        {
          "output_type": "display_data",
          "data": {
            "text/plain": [
              "<Figure size 640x480 with 2 Axes>"
            ],
            "image/png": "[encoded data removed]"
          },
          "metadata": {}
        }
      ]
    },
    {
      "cell_type": "markdown",
      "source": [
        "Put your text answer."
      ],
      "metadata": {
        "id": "KSxMxBmhyyez"
      }
    },
    {
      "cell_type": "markdown",
      "source": [
        "b) We are now going to use experimental design to see if we can find an optimum.  Of course, we could run an exhaustive set of cases, but recall that the whole purpose for experimental design is to gather information with the least number of runs as possible (usually due to severe resource constraints.)\n",
        "\n",
        "Remembering that the low value for each factor are represented by a minus sign and the high value by a plus sign, print out the average responses from a) and add them to this table (double clicking the text will open up the text so you can add to the table.) [2 points]\n",
        "\n",
        "\n",
        "Design Point|s|Q|sxQ|Average Response                       \n",
        "------------|-|-|---|--------\n",
        "1           |–|–|+  |           \n",
        "2           |+|–|–  |               \n",
        "3           |–|+|+  |          \n",
        "4           |+|+|–  |              "
      ],
      "metadata": {
        "id": "47HSAo550W_J"
      }
    },
    {
      "cell_type": "markdown",
      "source": [
        "c) Using the negative and positive signs in each of the columns of the table in b) calculate the effect of s, the effect of Q, and the effect of s, Q.  (For example, the effect of s will be (-response1 + response2 - response 3 + response 4)/4.). What do these effects indicate? [2 points]"
      ],
      "metadata": {
        "id": "CCrekZpF3eI1"
      }
    },
    {
      "cell_type": "markdown",
      "source": [
        "Put answer here."
      ],
      "metadata": {
        "id": "CUdAFysb5bn_"
      }
    },
    {
      "cell_type": "markdown",
      "source": [
        "d) It may be tempting to assume the best cost is going to be at the values of s and Q you identified in a) - c).  However, we would like to also investigate the possibility that the surface is curved and reaches a minimum somewhere in the middle of figure a) above. So, let's first move in the direction of where we think the minimum will be found, but not all the way.  Let s take the values of -25 and 0 while Q takes the values 60 and 85. Repeat parts a) - c) and comment on what you observe. [6 points]"
      ],
      "metadata": {
        "id": "s9JgWPAUy5mf"
      }
    },
    {
      "cell_type": "code",
      "source": [
        "Put code here"
      ],
      "metadata": {
        "id": "GOyQ_QPM-I-v"
      },
      "execution_count": null,
      "outputs": []
    },
    {
      "cell_type": "markdown",
      "source": [
        "Fill out table:\n",
        "\n",
        "Design Point|s|Q|sxQ|Average Response                       \n",
        "------------|-|-|---|--------\n",
        "1           |–|–|+  |           \n",
        "2           |+|–|–  |               \n",
        "3           |–|+|+  |          \n",
        "4           |+|+|–  |              "
      ],
      "metadata": {
        "id": "lsWfoxAs-MVc"
      }
    },
    {
      "cell_type": "markdown",
      "source": [
        "Effects of s:\n",
        "Effects of Q:\n",
        "Effects of s,Q:\n",
        "\n",
        "Comments:"
      ],
      "metadata": {
        "id": "U3_MP55W-fef"
      }
    },
    {
      "cell_type": "markdown",
      "source": [
        "e) With only 8 design points, we have begun to narrow down where the minimum cost might be.  While the small number of design points is a benefit, it is also a fairly severe limitation.  That's why this is only a very rudimentary beginning.  There are much better experimental designs.  Primarily, these rely on not just sampling the corner points, but including interior points as well. The next simplest is to include nine design points with three values for each factor. Rerun the code with s = -50, 0, 50 and Q = 10, 60, 110.  Provide the contour plot. (1 point)"
      ],
      "metadata": {
        "id": "PJKznh39_eiW"
      }
    },
    {
      "cell_type": "code",
      "source": [
        "Put code and plot here."
      ],
      "metadata": {
        "id": "HMM2XemIIWPq"
      },
      "execution_count": null,
      "outputs": []
    },
    {
      "cell_type": "markdown",
      "source": [
        "f) Finally, try 25 design points with s = -50, -25, 0, 25, 50 and Q = 10, 35, 60, 85, and 110. (1 point)"
      ],
      "metadata": {
        "id": "z2HZUXwxId1R"
      }
    },
    {
      "cell_type": "code",
      "source": [
        "Put code and plot here."
      ],
      "metadata": {
        "id": "Hbftav4OJMW-"
      },
      "execution_count": null,
      "outputs": []
    },
    {
      "cell_type": "markdown",
      "source": [
        "g) Comment on what you observe about the emerging mininum. (2 points)"
      ],
      "metadata": {
        "id": "4G-XEOtlJR1e"
      }
    },
    {
      "cell_type": "markdown",
      "source": [
        "Put answer here."
      ],
      "metadata": {
        "id": "UggfT7w-JdOZ"
      }
    },
    {
      "cell_type": "markdown",
      "source": [
        "In conclusion, computational experiments sometimes need experimental designs to extract desired results from an acceptable number of runs.  What I've been able to show you is just the begin.  Some wonderful work in this area has been conducted at the Naval Postgraduage School SEED Center (check out https://nps.edu/web/seed/papers-presentations)."
      ],
      "metadata": {
        "id": "qJbXK48uJgK1"
      }
    },
    {
      "cell_type": "markdown",
      "source": [
        "2) [14 points] The inventory simulation above has two assumption that we would like to remove.  First, it has instantaneous delivery of orders (no lead-time). Second, it has continuous inventory review (knowing exactly when the demand drops inventory below the reorder point.) We will assume that lead-time is a uniform random variable between 1/2 and 1 month. For this, we will need a Delivery event and a delivery_event function. For inventory review, we will assume that it occurs regular monthly intervals.  And, we will need an \"Inventory Review\" event and an inventory_review_event function.\n"
      ],
      "metadata": {
        "id": "C4ogxqakKk6s"
      }
    },
    {
      "cell_type": "markdown",
      "source": [
        "a) Let's start with the delivery_event function.  Complete the function below.  It should:\\\n",
        "• Calculate inventory cost using the function inventory_cost that is already in the code) and \\\n",
        "• Add the quantity delivered to the inventory. \\\n",
        "(2 points)"
      ],
      "metadata": {
        "id": "5B2iXt0UQi7c"
      }
    },
    {
      "cell_type": "code",
      "source": [
        "def delivery_event(quantity):"
      ],
      "metadata": {
        "id": "okf2uBltRIdP"
      },
      "execution_count": null,
      "outputs": []
    },
    {
      "cell_type": "markdown",
      "source": [
        "b) Now, let's add the inventory_review_event.  We will also need to modify the demand_event.  Do the following to the code below: \\\n",
        "• Remove the code from the demand_event that determines if an order needs to be placed. (Make sure you keep the code for decrement the demand from the inventory!)\\\n",
        "• Add a Delivery event every time an order is placed. Delay the delivery by a uniform(0.5, 1.0) random variable. Include the delivery quantity as \"quantity\" element of the event. \\\n",
        "• At the end of the \"Inventory Review\" event, add the scheduling of another Inventory Review event 1 period later. \\\n",
        "(4 points)"
      ],
      "metadata": {
        "id": "EsKbLNntRzJJ"
      }
    },
    {
      "cell_type": "code",
      "source": [
        "def demand_event(s, Q, demand):\n",
        "\tglobal inventory\n",
        "\tglobal cost\n",
        "\tglobal order_cost\n",
        "\tglobal per_item_cost\n",
        "\tglobal event_queue\n",
        "\tglobal sim_time\n",
        "  #Calculating the inventory/shortage cost\n",
        "\tinventory_cost()\n",
        "\t#Determine if an order is needed\n",
        "\tif inventory - demand <= s:\n",
        "\t\tshipped = s + Q - inventory + demand\n",
        "\t\tcost += order_cost + shipped * per_item_cost\n",
        "\t\tinventory = s + Q\n",
        "\telse:\n",
        "\t\tinventory -= demand\n",
        "\t#Schedule next demand\n",
        "\tevent_queue.append(event(sim_time + np.random.exponential(0.1), \"Demand\", demand_quantity()))\n",
        " \n",
        " def delivery_event():\n"
      ],
      "metadata": {
        "id": "eW6z0OKnULBH"
      },
      "execution_count": null,
      "outputs": []
    },
    {
      "cell_type": "markdown",
      "source": [
        "c) Finally, change the sQ_inventory_system function as follows:\\\n",
        "• As part of the initialization, add the first \"Inventory Review\" event to the event queue at time 1.0\\\n",
        "• Call the delivery_event when a Delivery event reaches the top of the event queue. \\\n",
        "• Call the inventory_review_event when a \"Inventory Review\" event reaches the top of the event queue.\\\n",
        "(3 points)"
      ],
      "metadata": {
        "id": "rPqs0aBRW9l4"
      }
    },
    {
      "cell_type": "code",
      "source": [
        "def sQ_inventory_system(s, Q):\n",
        "\tglobal inventory\n",
        "\tglobal cost\n",
        "\tglobal last_costing\n",
        "\tglobal orders\n",
        "\tglobal order_cost\n",
        "\tglobal event_queue\n",
        "\tglobal sim_time\n",
        "\tglobal max_sim_time\n",
        "\n",
        "\tinventory = s + Q\n",
        "\tcost = 0\n",
        "\tlast_costing = 0\n",
        "\torders = 0\n",
        "\n",
        "\tevent_queue = []\n",
        "\tevent_queue.append(event(np.random.exponential(0.1), \"Demand\", demand_quantity()))\n",
        "\n",
        "\t#timing\n",
        "\tsim_time = 0\n",
        "\tmax_sim_time = 120\n",
        "  \n",
        "\twhile sim_time <= max_sim_time:\n",
        "\t\tsim_time = event_queue[0].sim_time\n",
        "\t\tif event_queue[0].event_type == \"Demand\":\n",
        "\t\t\t\tdemand_event(s, Q, event_queue[0].quantity)\n",
        "\t\tdel event_queue[0]\n",
        "\treturn cost/max_sim_time"
      ],
      "metadata": {
        "id": "c6A-_1e9bzCH"
      },
      "execution_count": null,
      "outputs": []
    },
    {
      "cell_type": "markdown",
      "source": [
        "d) Put your new code together and run with \\\n",
        "s_min = 0\\\n",
        "s_max = 100\\\n",
        "s_inc = 5\\\n",
        "Q_min = 10\\\n",
        "Q_max = 110\\\n",
        "Q_inc = 5\\\n",
        "(5 points)"
      ],
      "metadata": {
        "id": "bCDkxhKhna_r"
      }
    },
    {
      "cell_type": "code",
      "source": [
        "Put your code and results here"
      ],
      "metadata": {
        "id": "Yor6OKVFnaRq"
      },
      "execution_count": null,
      "outputs": []
    }
  ]
}