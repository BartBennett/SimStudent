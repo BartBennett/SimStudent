{
  "nbformat": 4,
  "nbformat_minor": 0,
  "metadata": {
    "colab": {
      "provenance": [],
      "authorship_tag": "ABX9TyMsulsEBq3RM1J2vDA3qRyS",
      "include_colab_link": true
    },
    "kernelspec": {
      "name": "python3",
      "display_name": "Python 3"
    },
    "language_info": {
      "name": "python"
    }
  },
  "cells": [
    {
      "cell_type": "markdown",
      "metadata": {
        "id": "view-in-github",
        "colab_type": "text"
      },
      "source": [
        "<a href=\"https://colab.research.google.com/github/BartBennett/SimStudent/blob/main/Population_Sim_5.ipynb\" target=\"_parent\"><img src=\"https://colab.research.google.com/assets/colab-badge.svg\" alt=\"Open In Colab\"/></a>"
      ]
    },
    {
      "cell_type": "code",
      "execution_count": null,
      "metadata": {
        "id": "U2MMr1jcuG12"
      },
      "outputs": [],
      "source": [
        "# Sim #5 Yearly population model with individuals, births, deaths, sim initiation and sim run\n",
        "import numpy as np\n",
        "import matplotlib.pyplot as plt\n",
        "import random #Added"
      ]
    },
    {
      "cell_type": "code",
      "source": [
        "#Constants\n",
        "init_start_age = 18\n",
        "init_end_age = 50\n",
        "\n",
        "fertility_start = 18\n",
        "fertility_end = 40\n",
        "baby_odds = 0.25\n",
        "infant_mortality_reduction = 0.999\n",
        "\n",
        "old_person = 60\n",
        "old_death_odds = 0.1\n",
        "\n",
        "max_population = 10000\n",
        "end_year = 200\n",
        "\n",
        "replications = 2\n",
        "samples = 100"
      ],
      "metadata": {
        "id": "UpJMITKewPi7"
      },
      "execution_count": null,
      "outputs": []
    },
    {
      "cell_type": "code",
      "source": [
        "#Variables\n",
        "infant_mortality = 0.6\n",
        "\n",
        "population = np.zeros(10000)\n",
        "population[0] = 50\n",
        "peopleDictionary = []\n",
        "averages = np.zeros(replications)\n",
        "results = np.zeros(samples)\n",
        "\n",
        "class person:\n",
        "    def __init__(self, age):\n",
        "        self.gender = random.randint(0,1)\n",
        "        self.age = age\n",
        "\n",
        "def initialize():\n",
        "    global infant_mortality\n",
        "    infant_mortality = 0.8\n",
        "    for individual in range(int(population[0])):\n",
        "        peopleDictionary.append(person(random.randint(init_start_age, init_end_age)))\n",
        "\n",
        "def birth(infant_mortality):\n",
        "    births = 0\n",
        "    for individual in peopleDictionary:\n",
        "        if individual.gender == 1 and \\\n",
        "           individual.age > fertility_start and \\\n",
        "           individual.age < fertility_end and \\\n",
        "           random.uniform(0,1) <= baby_odds * (1 - infant_mortality):\n",
        "              peopleDictionary.append(person(0))\n",
        "              births += 1\n",
        "    return births\n",
        "\n",
        "def death(individual):\n",
        "    died = False\n",
        "    if individual.age > old_person \\\n",
        "        and random.uniform(0,1) <= old_death_odds:\n",
        "                peopleDictionary.remove(individual)\n",
        "                died = True\n",
        "    return died\n",
        "\n",
        "def one_year(infant_mortality):\n",
        "    deaths = 0\n",
        "    births = birth(infant_mortality)\n",
        "    for individual in peopleDictionary:\n",
        "        if not(death(individual)):\n",
        "            individual.age +=1\n",
        "        else:\n",
        "            deaths +=1\n",
        "    return births, deaths\n",
        "\n",
        "def sustain():\n",
        "    global infant_mortality\n",
        "    year = 0\n",
        "    initialize()\n",
        "    outcome = 1\n",
        "    while population[year] < max_population and population[year] > 1 and year < end_year:\n",
        "        births, deaths = one_year(infant_mortality)\n",
        "        year += 1\n",
        "        infant_mortality *= infant_mortality_reduction\n",
        "        population[year] = len(peopleDictionary)\n",
        "    peopleDictionary.clear()\n",
        "    if population[year]<=1:\n",
        "        outcome = 0\n",
        "    return outcome\n",
        "\n",
        "def rep():\n",
        "    for sample in range(samples):\n",
        "        results[sample] = sustain()\n",
        "    return np.mean(results)\n",
        "\n",
        "for replication in range(replications):\n",
        "    averages[replication] = rep()\n",
        "print(averages)\n",
        "print(np.mean(averages))"
      ],
      "metadata": {
        "id": "RIFd7wE4urNd",
        "colab": {
          "base_uri": "https://localhost:8080/"
        },
        "outputId": "70169b76-e5ee-4ac6-8928-1fbc0ab4bac0"
      },
      "execution_count": null,
      "outputs": [
        {
          "output_type": "stream",
          "name": "stdout",
          "text": [
            "[0.36 0.45]\n",
            "0.405\n"
          ]
        }
      ]
    }
  ]
}