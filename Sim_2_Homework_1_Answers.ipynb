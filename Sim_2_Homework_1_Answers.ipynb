{
  "nbformat": 4,
  "nbformat_minor": 0,
  "metadata": {
    "colab": {
      "provenance": [],
      "include_colab_link": true
    },
    "kernelspec": {
      "name": "python3",
      "display_name": "Python 3"
    },
    "language_info": {
      "name": "python"
    }
  },
  "cells": [
    {
      "cell_type": "markdown",
      "metadata": {
        "id": "view-in-github",
        "colab_type": "text"
      },
      "source": [
        "<a href=\"https://colab.research.google.com/github/BartBennett/SimStudent/blob/main/Sim_2_Homework_1_Answers.ipynb\" target=\"_parent\"><img src=\"https://colab.research.google.com/assets/colab-badge.svg\" alt=\"Open In Colab\"/></a>"
      ]
    },
    {
      "cell_type": "markdown",
      "source": [
        "#SIMULATION 2\n",
        "##HOMEWORK 1: Queues\n",
        "\n",
        "Due: In class on Friday, May 26, 2023\n",
        "\n",
        "Name: Your name here\n",
        "\n",
        "Overall score: 22 / 22 pts"
      ],
      "metadata": {
        "id": "WUZYZOak1nrM"
      }
    },
    {
      "cell_type": "markdown",
      "source": [
        "#### 1.\t[12 points] In this problem, we will explore what happens when a different probability distribution is used for the interarrival time. In each case, let the mean service time ($\\frac{1}{μ}$) be 1.0, the service time distribution be exponential, and the number of servers (s) be one. Also, use a random number seed of 118 and run the simulation for 1,000 time units.\n",
        "\n",
        "a) Change the queueing simulation we developed in class to a Python function of λ and μ (these are rates!) with the values of L, W, Lq, Wq, and ρ returned by the function. Use the exponential distribution for the interarrival time, fill out this table and put your code below. [4 points]\n",
        "\n",
        "$\\frac{1}{λ}$  |L     |W      |Lq     |Wq    |ρ                    \n",
        "---------------|-------|-------|-------|-------|-------\n",
        "2.00           |       |       |       |       |        \n",
        "1.50           |       |       |       |       |           \n",
        "1.10           |       |       |       |       |       \n",
        "1.05           |       |       |       |       |          "
      ],
      "metadata": {
        "id": "dWa4DHKk1xY7"
      }
    },
    {
      "cell_type": "code",
      "source": [
        "import numpy as np\n",
        "import matplotlib.pyplot as plt\n",
        "\n",
        "def Customer_Arrival():\n",
        "  global servers_idle_time\n",
        "  #Change system state\n",
        "  number_in_the_system.append(number_in_the_system[-1]+1)\n",
        "  #Create record for customer just arriving\n",
        "  customers.append(customer(event_queue[0].customer_ID, sim_time[-1], 0, 0))\n",
        "  #Schedule the arrival for the next customer\n",
        "  event_queue.append(event(sim_time[-1] + np.random.exponential(arrival_time), \"Arrival\", event_queue[0].customer_ID+1))\n",
        "  #Arrival and immediate service\n",
        "  if number_in_the_system[-1] <= servers:\n",
        "    #print(\"Time: \", sim_time[-1], \" Arrival with immediate service: \", event_queue[0].customer_ID)\n",
        "    #Add the service_time to the customer's record\n",
        "    customers[-1].service_time = sim_time[-1]\n",
        "    #Schedule this customer's departure\n",
        "    depart_time = sim_time[-1] + np.random.exponential(service_time)\n",
        "    #print(\"    Customer\", event_queue[0].customer_ID, \"expected departure\",depart_time)\n",
        "    event_queue.append(event(depart_time, \"Departure\", event_queue[0].customer_ID))\n",
        "    #Calculate idle time for serevers for every customer except the first\n",
        "    if len(customers) > 1:\n",
        "      servers_idle_time += (sim_time[-1] - sim_time[-2]) * (servers - number_in_the_system[-2])\n",
        "  #Arrival and wait in the queue\n",
        "  else:\n",
        "    #print(\"Time: \", sim_time[-1], \" Arrival, waiting in queue: \", event_queue[0].customer_ID)\n",
        "    #Add customer to queue\n",
        "    queue.append(event_queue[0].customer_ID)\n",
        "    #Increment the number in the queue\n",
        "    number_in_the_queue.append(number_in_the_queue[-1]+1)\n",
        "    #Add the sim_time for plotting the queue length\n",
        "    queue_time.append(sim_time[-1])\n",
        "\n",
        "def Customer_Departure():\n",
        "  global servers_idle_time\n",
        "  #Change system state\n",
        "  number_in_the_system.append(number_in_the_system[-1]-1)\n",
        "  #Add the deparure time to the customer's record\n",
        "  customers[event_queue[0].customer_ID].departure_time = sim_time[-1]\n",
        "  #Departure with the next person in the queue served\n",
        "  if number_in_the_system[-1] >= servers:\n",
        "    #print(\"Time: \", sim_time[-1], \" Departure: \", event_queue[0].customer_ID, \" Serving: \", queue[0])\n",
        "    #Add service time for customer who was in the queue\n",
        "    customers[int(queue[0])].service_time = sim_time[-1]\n",
        "    #Schedule the departure for this customer\n",
        "    event_queue.append(event(sim_time[-1] + np.random.exponential(service_time), \"Departure\", queue[0]))\n",
        "    #Remove this customer from the queue\n",
        "    del queue[0]\n",
        "    #Decrement the number in the queue\n",
        "    number_in_the_queue.append(number_in_the_queue[-1]-1)\n",
        "    #Add the sim_time for plotting the queue length\n",
        "    queue_time.append(sim_time[-1])\n",
        "  #Departure with the next person with no one in the queue\n",
        "  else:\n",
        "    #print(\"Time: \", sim_time[-1], \" Departure: \", event_queue[0].customer_ID, \" system empty\")\n",
        "    #Calculate idle time\n",
        "    servers_idle_time += (sim_time[-1] - sim_time[-2]) * (servers - number_in_the_system[-2])\n",
        "\n",
        "#system state\n",
        "number_in_the_system = []\n",
        "number_in_the_system.append(0)\n",
        "\n",
        "#entity attributes\n",
        "class customer:\n",
        "  def __init__(self, customer_ID, arrival_time, service_time, departure_time):\n",
        "    self.customer_ID = int(customer_ID)\n",
        "    self.arrival_time = arrival_time\n",
        "    self.service_time = service_time\n",
        "    self.departure_time = departure_time\n",
        "customers = []\n",
        "arrival_time = 1.05\n",
        "\n",
        "#resource\n",
        "servers = 1\n",
        "service_time = 1.0\n",
        "servers_idle_time = 0\n",
        "\n",
        "#events\n",
        "class event:\n",
        "  def __init__(self, sim_time, event_type, customer_ID):\n",
        "    self.sim_time = sim_time\n",
        "    self.event_type = event_type\n",
        "    self.customer_ID = int(customer_ID)\n",
        "\n",
        "event_queue = []\n",
        "event_queue.append(event(np.random.exponential(arrival_time), \"Arrival\", 0))\n",
        "servers_idle_time = event_queue[0].sim_time * servers\n",
        "\n",
        "#sets\n",
        "queue = []\n",
        "number_in_the_queue = []\n",
        "number_in_the_queue.append(0)\n",
        "queue_time = []\n",
        "queue_time.append(0)\n",
        "\n",
        "#timing\n",
        "max_time = 1000\n",
        "sim_time = []\n",
        "sim_time.append(0)\n",
        "\n",
        "np.random.seed(118)\n",
        "\n",
        "while event_queue[0].sim_time <= max_time:\n",
        "  sim_time = np.append(sim_time, event_queue[0].sim_time)\n",
        "  match event_queue[0].event_type:\n",
        "    case 'Arrival':\n",
        "      Customer_Arrival()\n",
        "    case 'Departure':\n",
        "      Customer_Departure()\n",
        "  #Delete event just processed\n",
        "  del event_queue[0]\n",
        "  #Sort the event queue\n",
        "  event_queue.sort(key = lambda x : x.sim_time)\n",
        "\n",
        "last_arrived = customers[-1].customer_ID\n",
        "last_served = last_arrived\n",
        "while customers[last_served].service_time == 0:\n",
        "  last_served -= 1\n",
        "last_departed = last_served\n",
        "while customers[last_departed].departure_time == 0:\n",
        "  last_departed -= 1\n",
        "\n",
        "sum_person_time = sum(customers[c].departure_time - customers[c].arrival_time for c in range(0,last_departed))\n",
        "sum_person_queue_time = sum(customers[c].service_time - customers[c].arrival_time for c in range(0,last_served))\n",
        "print(\"For arrival time\", arrival_time, \"and service time\", service_time)\n",
        "print(\"L = %5.2f\" % (sum_person_time/customers[last_departed].departure_time))\n",
        "print(\"Lq = %5.2f\" % (sum_person_queue_time/customers[last_served].service_time))\n",
        "print(\"W = %5.2f\" % (sum_person_time/last_departed))\n",
        "print(\"Wq = %5.2f\" % (sum_person_queue_time/last_served))\n",
        "print(\"rho = %5.2f\" % (1 - servers_idle_time/max_time/servers))"
      ],
      "metadata": {
        "id": "2FjfFHKElxxh",
        "colab": {
          "base_uri": "https://localhost:8080/"
        },
        "outputId": "8b001502-0904-4602-825e-f7b3aaac2839"
      },
      "execution_count": null,
      "outputs": [
        {
          "output_type": "stream",
          "name": "stdout",
          "text": [
            "For arrival time 1.05 and service time 1.0\n",
            "L =  8.63\n",
            "Lq =  7.71\n",
            "W =  8.91\n",
            "Wq =  7.95\n",
            "rho =  0.92\n"
          ]
        }
      ]
    },
    {
      "cell_type": "markdown",
      "source": [
        "For arrival time 2 and service time 1.0\\\n",
        "L =  0.86\\\n",
        "Lq =  0.37\\\n",
        "W =  1.63\\\n",
        "Wq =  0.70\\\n",
        "rho =  0.49\\\n",
        "\\\n",
        "For arrival time 1.5 and service time 1.0\\\n",
        "L =  1.93\\\n",
        "Lq =  1.24\\\n",
        "W =  2.73\\\n",
        "Wq =  1.77\\\n",
        "rho =  0.68\\\n",
        "\\\n",
        "For arrival time 1.1 and service time 1.0\\\n",
        "L = 17.30\\\n",
        "Lq = 16.33\\\n",
        "W = 17.77\\\n",
        "Wq = 16.76\\\n",
        "rho =  0.97\\\n",
        "\\\n",
        "For arrival time 1.05 and service time 1.0\\\n",
        "L =  8.63\\\n",
        "Lq =  7.71\\\n",
        "W =  8.91\\\n",
        "Wq =  7.95\\\n",
        "rho =  0.92   "
      ],
      "metadata": {
        "id": "qairFEtZn9Tx"
      }
    },
    {
      "cell_type": "markdown",
      "source": [
        "$\\frac{1}{λ}$  |L     |W      |Lq     |Wq    |ρ                    \n",
        "---------------|-------|-------|-------|-------|-------\n",
        "2.00           |0.68| 1.63| 0.37| 0.70|0.49\n",
        "1.50           |1.93| 2.73| 1.24| 1.77|0.68       \n",
        "1.10           |17.31|17.77|16.33|16.67|0.97\n",
        "1.05           | 8.63| 8.91| 7.71| 7.95|0.92"
      ],
      "metadata": {
        "id": "5BS5cqqltaw8"
      }
    },
    {
      "cell_type": "markdown",
      "source": [
        "Note: Is seems odd that the number do not appear to be monotonic.  What is happening is as you get closer and closer to where the arrival time = service time, the number in the system will eventually get very large.  But, this takes a very, very long time. The transient period gets longer and longer. During the transient period is is unpredictable if the result (in our case after 1000 periods) will be below or above the long-term average.  To see this, run a case and then plot the average over time.  The example below is for L and an arrival time of 1.1 time units.  While L goes up to begin with, you can see that it is dropping when the simulation ends.  Just because it is dropping at 1,000 time units doesn't mean that the average is will be less that or greater than the last point.  The only way to get this from the simulation is to extend the time or to collect several samples and estimate the actual value of L."
      ],
      "metadata": {
        "id": "e-MHGJLOuWJ1"
      }
    },
    {
      "cell_type": "code",
      "source": [
        "people_time = 0\n",
        "L = np.zeros(1)\n",
        "for i in range(1, len(sim_time)):\n",
        "    people_time += number_in_the_system[i-1] * (sim_time[i] - sim_time[i-1])\n",
        "    L = np.append(L, people_time/sim_time[i])\n",
        "plt.step(sim_time, L, where='post', label='Average Number in the System')\n",
        "plt.grid(axis='y', color='0.95')\n",
        "plt.show()"
      ],
      "metadata": {
        "colab": {
          "base_uri": "https://localhost:8080/",
          "height": 430
        },
        "id": "vbThGw0dptDN",
        "outputId": "abbd6bf4-302c-40e4-ed1b-67e10085a310"
      },
      "execution_count": null,
      "outputs": [
        {
          "output_type": "display_data",
          "data": {
            "text/plain": [
              "<Figure size 640x480 with 1 Axes>"
            ],
            "image/png": "[encoded data removed]"
          },
          "metadata": {}
        }
      ]
    },
    {
      "cell_type": "markdown",
      "source": [
        "b) Using a controlling routine outside the queueing calculation function, loop through the values of $\\frac{1}{λ}$ from 1.01 to 1.5 in steps of 0.01 and plot the results for Lq.  [3 pts]"
      ],
      "metadata": {
        "id": "qmQ6TObU44EC"
      }
    },
    {
      "cell_type": "code",
      "source": [
        "import numpy as np\n",
        "import matplotlib.pyplot as plt\n",
        "\n",
        "def Customer_Arrival(arrival_time):\n",
        "  global servers_idle_time\n",
        "  #Change system state\n",
        "  number_in_the_system.append(number_in_the_system[-1]+1)\n",
        "  #Create record for customer just arriving\n",
        "  customers.append(customer(event_queue[0].customer_ID, sim_time[-1], 0, 0))\n",
        "  #Schedule the arrival for the next customer\n",
        "  event_queue.append(event(sim_time[-1] + np.random.exponential(arrival_time), \"Arrival\", event_queue[0].customer_ID+1))\n",
        "  #Arrival and immediate service\n",
        "  if number_in_the_system[-1] <= servers:\n",
        "    #print(\"Time: \", sim_time[-1], \" Arrival with immediate service: \", event_queue[0].customer_ID)\n",
        "    #Add the service_time to the customer's record\n",
        "    customers[-1].service_time = sim_time[-1]\n",
        "    #Schedule this customer's departure\n",
        "    depart_time = sim_time[-1] + np.random.exponential(service_time)\n",
        "    #print(\"    Customer\", event_queue[0].customer_ID, \"expected departure\",depart_time)\n",
        "    event_queue.append(event(depart_time, \"Departure\", event_queue[0].customer_ID))\n",
        "    #Calculate idle time for serevers for every customer except the first\n",
        "    if len(customers) > 1:\n",
        "      servers_idle_time += (sim_time[-1] - sim_time[-2]) * (servers - number_in_the_system[-2])\n",
        "  #Arrival and wait in the queue\n",
        "  else:\n",
        "    #print(\"Time: \", sim_time[-1], \" Arrival, waiting in queue: \", event_queue[0].customer_ID)\n",
        "    #Add customer to queue\n",
        "    queue.append(event_queue[0].customer_ID)\n",
        "    #Increment the number in the queue\n",
        "    number_in_the_queue.append(number_in_the_queue[-1]+1)\n",
        "    #Add the sim_time for plotting the queue length\n",
        "    queue_time.append(sim_time[-1])\n",
        "\n",
        "def Customer_Departure():\n",
        "  global servers_idle_time\n",
        "  #Change system state\n",
        "  number_in_the_system.append(number_in_the_system[-1]-1)\n",
        "  #Add the deparure time to the customer's record\n",
        "  customers[event_queue[0].customer_ID].departure_time = sim_time[-1]\n",
        "  #Departure with the next person in the queue served\n",
        "  if number_in_the_system[-1] >= servers:\n",
        "    #print(\"Time: \", sim_time[-1], \" Departure: \", event_queue[0].customer_ID, \" Serving: \", queue[0])\n",
        "    #Add service time for customer who was in the queue\n",
        "    customers[int(queue[0])].service_time = sim_time[-1]\n",
        "    #Schedule the departure for this customer\n",
        "    event_queue.append(event(sim_time[-1] + np.random.exponential(service_time), \"Departure\", queue[0]))\n",
        "    #Remove this customer from the queue\n",
        "    del queue[0]\n",
        "    #Decrement the number in the queue\n",
        "    number_in_the_queue.append(number_in_the_queue[-1]-1)\n",
        "    #Add the sim_time for plotting the queue length\n",
        "    queue_time.append(sim_time[-1])\n",
        "  #Departure with the next person with no one in the queue\n",
        "  else:\n",
        "    #print(\"Time: \", sim_time[-1], \" Departure: \", event_queue[0].customer_ID, \" system empty\")\n",
        "    #Calculate idle time\n",
        "    servers_idle_time += (sim_time[-1] - sim_time[-2]) * (servers - number_in_the_system[-2])\n",
        "\n",
        "def Queueing_Simulation(arrival_time):\n",
        "  #system state\n",
        "  number_in_the_system.clear()\n",
        "  number_in_the_system.append(0)\n",
        "\n",
        "  #entity attributes\n",
        "  customers.clear()\n",
        "\n",
        "  #events\n",
        "  event_queue.clear()\n",
        "  event_queue.append(event(np.random.exponential(arrival_time), \"Arrival\", 0))\n",
        "\n",
        "  #resource\n",
        "  servers_idle_time = event_queue[0].sim_time * servers\n",
        "\n",
        "  #sets\n",
        "  queue.clear()\n",
        "  number_in_the_queue.clear()\n",
        "  number_in_the_queue.append(0)\n",
        "  queue_time.clear()\n",
        "  queue_time.append(0)\n",
        "\n",
        "  #timing\n",
        "  sim_time.clear()\n",
        "  sim_time.append(0)\n",
        "\n",
        "  np.random.seed(118)\n",
        "\n",
        "  while event_queue[0].sim_time <= max_time:\n",
        "    sim_time.append(event_queue[0].sim_time)\n",
        "    match event_queue[0].event_type:\n",
        "      case 'Arrival':\n",
        "        Customer_Arrival(arrival_time)\n",
        "      case 'Departure':\n",
        "        Customer_Departure()\n",
        "    #Delete event just processed\n",
        "    del event_queue[0]\n",
        "    #Sort the event queue\n",
        "    event_queue.sort(key = lambda x : x.sim_time)\n",
        "\n",
        "  last_arrived = customers[-1].customer_ID\n",
        "  last_served = last_arrived\n",
        "  while customers[last_served].service_time == 0:\n",
        "    last_served -= 1\n",
        "  sum_person_queue_time = sum(customers[c].service_time - customers[c].arrival_time for c in range(0,last_served))\n",
        "  return sum_person_queue_time/customers[last_served].service_time\n",
        "\n",
        "#system state\n",
        "number_in_the_system = []\n",
        "\n",
        "#resource\n",
        "servers = 1\n",
        "service_time = 1.0\n",
        "servers_idle_time = 0\n",
        "\n",
        "#entity attributes\n",
        "class customer:\n",
        "  def __init__(self, customer_ID, arrival_time, service_time, departure_time):\n",
        "    self.customer_ID = int(customer_ID)\n",
        "    self.arrival_time = arrival_time\n",
        "    self.service_time = service_time\n",
        "    self.departure_time = departure_time\n",
        "customers = []\n",
        "\n",
        "#sets\n",
        "queue = []\n",
        "number_in_the_queue = []\n",
        "queue_time = []\n",
        "\n",
        "#events\n",
        "class event:\n",
        "  def __init__(self, sim_time, event_type, customer_ID):\n",
        "    self.sim_time = sim_time\n",
        "    self.event_type = event_type\n",
        "    self.customer_ID = int(customer_ID)\n",
        "event_queue = []\n",
        "\n",
        "#timing\n",
        "max_time = 1000\n",
        "sim_time = []\n",
        "\n",
        "arr_time = []\n",
        "Lq = []\n",
        "for t in range(101, 151, 1):\n",
        "  arr_time.append(t/100)\n",
        "  Lq.append(Queueing_Simulation(t/100))\n",
        "\n",
        "plt.plot(arr_time, Lq, label='Average Number in the System')\n",
        "plt.grid(axis='y', color='0.95')\n",
        "plt.show()"
      ],
      "metadata": {
        "id": "Nu4EHtyVtvhG",
        "colab": {
          "base_uri": "https://localhost:8080/",
          "height": 434
        },
        "outputId": "a4360198-094f-4f88-b01d-5d8afc2e93a1"
      },
      "execution_count": null,
      "outputs": [
        {
          "output_type": "display_data",
          "data": {
            "text/plain": [
              "<Figure size 640x480 with 1 Axes>"
            ],
            "image/png": "[encoded data removed]"
          },
          "metadata": {}
        }
      ]
    },
    {
      "cell_type": "markdown",
      "source": [
        "This plot show reinforces the need to extend the simulation or do samples for each set of parameters in order to get a smoother plot of the average queue length."
      ],
      "metadata": {
        "id": "X62mrTdFK9is"
      }
    },
    {
      "cell_type": "markdown",
      "source": [
        "c) Change the arrival distribution to a beta distribution with parameters a = 0.5 and b = 0.5 (see the numpy.random.beta function). Note: unlike numpy.random.exponential, the numpy.random.beta function provides random numbers only on the interval (0, 1) and has the mean $\\frac{a}{a+b}$. To get a beta distribution with mean M, it is necessary to multiply the numpy.random.beta function by $\\frac{a+b}{a}$*M.  \n",
        "\n",
        "We wish to compare the outcomes of the queueing model for the inerarrival times with the exponential distribution and with the beta distribution when their **means are equal**. Repeat the plot in b) and include a curve with the results from interarrivals with the beta districution.    [2 pts]"
      ],
      "metadata": {
        "id": "DwUXxqJp5Cwz"
      }
    },
    {
      "cell_type": "code",
      "source": [
        "import numpy as np\n",
        "import matplotlib.pyplot as plt\n",
        "\n",
        "def Customer_Arrival(arrival_time):\n",
        "  global servers_idle_time\n",
        "  #Change system state\n",
        "  number_in_the_system.append(number_in_the_system[-1]+1)\n",
        "  #Create record for customer just arriving\n",
        "  customers.append(customer(event_queue[0].customer_ID, sim_time[-1], 0, 0))\n",
        "  #Schedule the arrival for the next customer\n",
        "  event_queue.append(event(sim_time[-1] + np.random.beta(0.5, 0.5)*2*arrival_time, \"Arrival\", event_queue[0].customer_ID+1))\n",
        "  #Arrival and immediate service\n",
        "  if number_in_the_system[-1] <= servers:\n",
        "    #print(\"Time: \", sim_time[-1], \" Arrival with immediate service: \", event_queue[0].customer_ID)\n",
        "    #Add the service_time to the customer's record\n",
        "    customers[-1].service_time = sim_time[-1]\n",
        "    #Schedule this customer's departure\n",
        "    depart_time = sim_time[-1] + np.random.exponential(service_time)\n",
        "    #print(\"    Customer\", event_queue[0].customer_ID, \"expected departure\",depart_time)\n",
        "    event_queue.append(event(depart_time, \"Departure\", event_queue[0].customer_ID))\n",
        "    #Calculate idle time for serevers for every customer except the first\n",
        "    if len(customers) > 1:\n",
        "      servers_idle_time += (sim_time[-1] - sim_time[-2]) * (servers - number_in_the_system[-2])\n",
        "  #Arrival and wait in the queue\n",
        "  else:\n",
        "    #print(\"Time: \", sim_time[-1], \" Arrival, waiting in queue: \", event_queue[0].customer_ID)\n",
        "    #Add customer to queue\n",
        "    queue.append(event_queue[0].customer_ID)\n",
        "    #Increment the number in the queue\n",
        "    number_in_the_queue.append(number_in_the_queue[-1]+1)\n",
        "    #Add the sim_time for plotting the queue length\n",
        "    queue_time.append(sim_time[-1])\n",
        "\n",
        "def Customer_Departure():\n",
        "  global servers_idle_time\n",
        "  #Change system state\n",
        "  number_in_the_system.append(number_in_the_system[-1]-1)\n",
        "  #Add the deparure time to the customer's record\n",
        "  customers[event_queue[0].customer_ID].departure_time = sim_time[-1]\n",
        "  #Departure with the next person in the queue served\n",
        "  if number_in_the_system[-1] >= servers:\n",
        "    #print(\"Time: \", sim_time[-1], \" Departure: \", event_queue[0].customer_ID, \" Serving: \", queue[0])\n",
        "    #Add service time for customer who was in the queue\n",
        "    customers[int(queue[0])].service_time = sim_time[-1]\n",
        "    #Schedule the departure for this customer\n",
        "    event_queue.append(event(sim_time[-1] + np.random.exponential(service_time), \"Departure\", queue[0]))\n",
        "    #Remove this customer from the queue\n",
        "    del queue[0]\n",
        "    #Decrement the number in the queue\n",
        "    number_in_the_queue.append(number_in_the_queue[-1]-1)\n",
        "    #Add the sim_time for plotting the queue length\n",
        "    queue_time.append(sim_time[-1])\n",
        "  #Departure with the next person with no one in the queue\n",
        "  else:\n",
        "    #print(\"Time: \", sim_time[-1], \" Departure: \", event_queue[0].customer_ID, \" system empty\")\n",
        "    #Calculate idle time\n",
        "    servers_idle_time += (sim_time[-1] - sim_time[-2]) * (servers - number_in_the_system[-2])\n",
        "\n",
        "def Queueing_Simulation(arrival_time):\n",
        "  #system state\n",
        "  number_in_the_system.clear()\n",
        "  number_in_the_system.append(0)\n",
        "\n",
        "  #entity attributes\n",
        "  customers.clear()\n",
        "\n",
        "  #events\n",
        "  event_queue.clear()\n",
        "  event_queue.append(event(np.random.beta(0.5, 0.5)*2*arrival_time, \"Arrival\", 0))\n",
        "\n",
        "  #resource\n",
        "  servers_idle_time = event_queue[0].sim_time * servers\n",
        "\n",
        "  #sets\n",
        "  queue.clear()\n",
        "  number_in_the_queue.clear()\n",
        "  number_in_the_queue.append(0)\n",
        "  queue_time.clear()\n",
        "  queue_time.append(0)\n",
        "\n",
        "  #timing\n",
        "  sim_time.clear()\n",
        "  sim_time.append(0)\n",
        "\n",
        "  np.random.seed(118)\n",
        "\n",
        "  while event_queue[0].sim_time <= max_time:\n",
        "    sim_time.append(event_queue[0].sim_time)\n",
        "    match event_queue[0].event_type:\n",
        "      case 'Arrival':\n",
        "        Customer_Arrival(arrival_time)\n",
        "      case 'Departure':\n",
        "        Customer_Departure()\n",
        "    #Delete event just processed\n",
        "    del event_queue[0]\n",
        "    #Sort the event queue\n",
        "    event_queue.sort(key = lambda x : x.sim_time)\n",
        "\n",
        "  last_arrived = customers[-1].customer_ID\n",
        "  last_served = last_arrived\n",
        "  while customers[last_served].service_time == 0:\n",
        "    last_served -= 1\n",
        "  sum_person_queue_time = sum(customers[c].service_time - customers[c].arrival_time for c in range(0,last_served))\n",
        "  return sum_person_queue_time/customers[last_served].service_time\n",
        "\n",
        "#system state\n",
        "number_in_the_system = []\n",
        "\n",
        "#resource\n",
        "servers = 1\n",
        "service_time = 1.0\n",
        "servers_idle_time = 0\n",
        "\n",
        "#entity attributes\n",
        "class customer:\n",
        "  def __init__(self, customer_ID, arrival_time, service_time, departure_time):\n",
        "    self.customer_ID = int(customer_ID)\n",
        "    self.arrival_time = arrival_time\n",
        "    self.service_time = service_time\n",
        "    self.departure_time = departure_time\n",
        "customers = []\n",
        "\n",
        "#sets\n",
        "queue = []\n",
        "number_in_the_queue = []\n",
        "queue_time = []\n",
        "\n",
        "#events\n",
        "class event:\n",
        "  def __init__(self, sim_time, event_type, customer_ID):\n",
        "    self.sim_time = sim_time\n",
        "    self.event_type = event_type\n",
        "    self.customer_ID = int(customer_ID)\n",
        "event_queue = []\n",
        "\n",
        "#timing\n",
        "max_time = 1000\n",
        "sim_time = []\n",
        "\n",
        "arr_time2 = []\n",
        "Lq2 = []\n",
        "for t in range(101, 151, 1):\n",
        "  arr_time2.append(t/100)\n",
        "  Lq2.append(Queueing_Simulation(t/100))\n",
        "\n",
        "plt.title('Beta vs Expontential Distribution Equal Average Arrival Time')\n",
        "plt.xlabel('Average Arrival Time')\n",
        "plt.ylabel('Lq')\n",
        "plt.plot(arr_time, Lq, \"-b\", label='Exponential Distribution')\n",
        "plt.plot(arr_time2, Lq2, \"-r\", label=\"Beta Distribution\")\n",
        "plt.legend(loc=\"upper right\")\n",
        "plt.show()"
      ],
      "metadata": {
        "id": "-n9fFkBC0cf2",
        "colab": {
          "base_uri": "https://localhost:8080/",
          "height": 472
        },
        "outputId": "4135a423-9ee1-4caf-dea5-e12161e994a5"
      },
      "execution_count": null,
      "outputs": [
        {
          "output_type": "display_data",
          "data": {
            "text/plain": [
              "<Figure size 640x480 with 1 Axes>"
            ],
            "image/png": "[encoded data removed]"
          },
          "metadata": {}
        }
      ]
    },
    {
      "cell_type": "markdown",
      "source": [
        "d) Consider the case where 1/λ = 1.05.  Use the queueing simulation to fill out the following table. Explain, in general terms, why the shape of arrival distribution has the observed impact on the queueing model results. [3 points]\n",
        "\n",
        "Distribution|a  |b  |L    |W    |Lq   |Wq   |ρ                  \n",
        "------------|---|---|-----|-----|-----|-----|----\n",
        "Exponential |-  |-  | 8.61| 8.91| 7.70| 7.96|0.92\n",
        "Beta        |0.5|0.5| 7.96| 8.30| 7.03| 7.32|0.93\n",
        "Beta        |5.0|1.0| 5.93| 6.32| 5.04| 5.36|0.90\n",
        "Beta        |1.0|5.0|14.86|15.13|13.93|14.16|0.95"
      ],
      "metadata": {
        "id": "licGBhdHJ0xW"
      }
    },
    {
      "cell_type": "markdown",
      "source": [
        "The beta(0.5,0.5) distribution is symmetric and bounded.  The right tail of the exponential distribution, then, yields a slightly more heavily loaded queueing system.  The beta(5.0, 1.0) is also bounded, but is left skewed.  Interarrival times will be longer thus creating a less heavily loaded queueing system.  Finally, the beta(1.0, 5.0) is bounded, but is right skewed.  Interarrival times will generally be shorter making the queueing system increasingly heavily loaded."
      ],
      "metadata": {
        "id": "b9_2O1jmXvyk"
      }
    },
    {
      "cell_type": "markdown",
      "source": [
        "2) [10 points] In this problem, we will see what happens with different service time distributions. In each case, let the mean interarrival time ($\\frac{1}{λ}$) be 2.0, the interarrival time distribution be exponential, and the number of servers (s) be one. Also, use a random number seed of 118 and run the simulation for 1,000 time units.\n",
        "\n",
        "a) Use the exponential distribution for the service time and fill out this table and put your code below. [2 points]\n",
        "\n",
        "$\\frac{1}{μ}$  |L   |W    |Lq  |Wq   |ρ                    \n",
        "---------------|----|-----|----|-----|----\n",
        "1.00           |0.85| 1.63|0.37| 0.70|0.49\n",
        "1.50           |2.97| 5.64|2.23| 4.24|0.74\n",
        "1.90           |8.55|16.50|7.65|17.74|0.90\n",
        "1.95           |7.67|15.06|6.78|13.28|0.90      \n"
      ],
      "metadata": {
        "id": "sGtCUkrevP2f"
      }
    },
    {
      "cell_type": "markdown",
      "source": [
        "b) Using a controlling routine outside the queueing calculation function, loop through the values of $\\frac{1}{μ}$ from 1.50 to 1.95 in steps of 0.01 and plot the results for Lq. [2 pts]"
      ],
      "metadata": {
        "id": "Mom_RejmZsMA"
      }
    },
    {
      "cell_type": "code",
      "source": [
        "import numpy as np\n",
        "import matplotlib.pyplot as plt\n",
        "\n",
        "def Customer_Arrival(arrival_time):\n",
        "  global servers_idle_time\n",
        "  #Change system state\n",
        "  number_in_the_system.append(number_in_the_system[-1]+1)\n",
        "  #Create record for customer just arriving\n",
        "  customers.append(customer(event_queue[0].customer_ID, sim_time[-1], 0, 0))\n",
        "  #Schedule the arrival for the next customer\n",
        "  event_queue.append(event(sim_time[-1] + np.random.exponential(arrival_time), \"Arrival\", event_queue[0].customer_ID+1))\n",
        "  #Arrival and immediate service\n",
        "  if number_in_the_system[-1] <= servers:\n",
        "    #print(\"Time: \", sim_time[-1], \" Arrival with immediate service: \", event_queue[0].customer_ID)\n",
        "    #Add the service_time to the customer's record\n",
        "    customers[-1].service_time = sim_time[-1]\n",
        "    #Schedule this customer's departure\n",
        "    depart_time = sim_time[-1] + np.random.exponential(service_time)\n",
        "    #print(\"    Customer\", event_queue[0].customer_ID, \"expected departure\",depart_time)\n",
        "    event_queue.append(event(depart_time, \"Departure\", event_queue[0].customer_ID))\n",
        "    #Calculate idle time for serevers for every customer except the first\n",
        "    if len(customers) > 1:\n",
        "      servers_idle_time += (sim_time[-1] - sim_time[-2]) * (servers - number_in_the_system[-2])\n",
        "  #Arrival and wait in the queue\n",
        "  else:\n",
        "    #print(\"Time: \", sim_time[-1], \" Arrival, waiting in queue: \", event_queue[0].customer_ID)\n",
        "    #Add customer to queue\n",
        "    queue.append(event_queue[0].customer_ID)\n",
        "    #Increment the number in the queue\n",
        "    number_in_the_queue.append(number_in_the_queue[-1]+1)\n",
        "    #Add the sim_time for plotting the queue length\n",
        "    queue_time.append(sim_time[-1])\n",
        "\n",
        "def Customer_Departure():\n",
        "  global servers_idle_time\n",
        "  #Change system state\n",
        "  number_in_the_system.append(number_in_the_system[-1]-1)\n",
        "  #Add the deparure time to the customer's record\n",
        "  customers[event_queue[0].customer_ID].departure_time = sim_time[-1]\n",
        "  #Departure with the next person in the queue served\n",
        "  if number_in_the_system[-1] >= servers:\n",
        "    #print(\"Time: \", sim_time[-1], \" Departure: \", event_queue[0].customer_ID, \" Serving: \", queue[0])\n",
        "    #Add service time for customer who was in the queue\n",
        "    customers[int(queue[0])].service_time = sim_time[-1]\n",
        "    #Schedule the departure for this customer\n",
        "    event_queue.append(event(sim_time[-1] + np.random.exponential(service_time), \"Departure\", queue[0]))\n",
        "    #Remove this customer from the queue\n",
        "    del queue[0]\n",
        "    #Decrement the number in the queue\n",
        "    number_in_the_queue.append(number_in_the_queue[-1]-1)\n",
        "    #Add the sim_time for plotting the queue length\n",
        "    queue_time.append(sim_time[-1])\n",
        "  #Departure with the next person with no one in the queue\n",
        "  else:\n",
        "    #print(\"Time: \", sim_time[-1], \" Departure: \", event_queue[0].customer_ID, \" system empty\")\n",
        "    #Calculate idle time\n",
        "    servers_idle_time += (sim_time[-1] - sim_time[-2]) * (servers - number_in_the_system[-2])\n",
        "\n",
        "def Queueing_Simulation(arrival_time):\n",
        "  #system state\n",
        "  number_in_the_system.clear()\n",
        "  number_in_the_system.append(0)\n",
        "\n",
        "  #entity attributes\n",
        "  customers.clear()\n",
        "\n",
        "  #events\n",
        "  event_queue.clear()\n",
        "  event_queue.append(event(np.random.exponential(arrival_time), \"Arrival\", 0))\n",
        "\n",
        "  #resource\n",
        "  servers_idle_time = event_queue[0].sim_time * servers\n",
        "\n",
        "  #sets\n",
        "  queue.clear()\n",
        "  number_in_the_queue.clear()\n",
        "  number_in_the_queue.append(0)\n",
        "  queue_time.clear()\n",
        "  queue_time.append(0)\n",
        "\n",
        "  #timing\n",
        "  sim_time.clear()\n",
        "  sim_time.append(0)\n",
        "\n",
        "  np.random.seed(118)\n",
        "\n",
        "  while event_queue[0].sim_time <= max_time:\n",
        "    sim_time.append(event_queue[0].sim_time)\n",
        "    match event_queue[0].event_type:\n",
        "      case 'Arrival':\n",
        "        Customer_Arrival(arrival_time)\n",
        "      case 'Departure':\n",
        "        Customer_Departure()\n",
        "    #Delete event just processed\n",
        "    del event_queue[0]\n",
        "    #Sort the event queue\n",
        "    event_queue.sort(key = lambda x : x.sim_time)\n",
        "\n",
        "  last_arrived = customers[-1].customer_ID\n",
        "  last_served = last_arrived\n",
        "  while customers[last_served].service_time == 0:\n",
        "    last_served -= 1\n",
        "  sum_person_queue_time = sum(customers[c].service_time - customers[c].arrival_time for c in range(0,last_served))\n",
        "  return sum_person_queue_time/customers[last_served].service_time\n",
        "\n",
        "#system state\n",
        "number_in_the_system = []\n",
        "\n",
        "#resource\n",
        "servers = 1\n",
        "service_time = 1.0\n",
        "servers_idle_time = 0\n",
        "\n",
        "#entity attributes\n",
        "class customer:\n",
        "  def __init__(self, customer_ID, arrival_time, service_time, departure_time):\n",
        "    self.customer_ID = int(customer_ID)\n",
        "    self.arrival_time = arrival_time\n",
        "    self.service_time = service_time\n",
        "    self.departure_time = departure_time\n",
        "customers = []\n",
        "\n",
        "#sets\n",
        "queue = []\n",
        "number_in_the_queue = []\n",
        "queue_time = []\n",
        "\n",
        "#events\n",
        "class event:\n",
        "  def __init__(self, sim_time, event_type, customer_ID):\n",
        "    self.sim_time = sim_time\n",
        "    self.event_type = event_type\n",
        "    self.customer_ID = int(customer_ID)\n",
        "event_queue = []\n",
        "\n",
        "#timing\n",
        "max_time = 1000\n",
        "sim_time = []\n",
        "\n",
        "ser_time = []\n",
        "Lq = []\n",
        "for t in range(150, 195, 1):\n",
        "  ser_time.append(t/100)\n",
        "  Lq.append(Queueing_Simulation(t/100))\n",
        "\n",
        "plt.plot(arr_time, Lq, label='Average Number in the System')\n",
        "plt.grid(axis='y', color='0.95')\n",
        "plt.show()"
      ],
      "metadata": {
        "id": "x1i6NrCJc7ur"
      },
      "execution_count": null,
      "outputs": []
    },
    {
      "cell_type": "markdown",
      "source": [
        "c) Change the service time distribution to a uniform distribution with a lower bound 25% below the mean and an upper bound 25% above the mean.  We wish to compare the outcomes of the queueing model for the service times with the exponential distribution and with the uniform distribution when their means are equal. Repeat the plot in b) and include a curve with the results from service times with the uniform districution. [2 pts]"
      ],
      "metadata": {
        "id": "yPg9GuvYdKjo"
      }
    },
    {
      "cell_type": "code",
      "source": [
        "Put your plot here"
      ],
      "metadata": {
        "id": "DdY_CKbGd8kz"
      },
      "execution_count": null,
      "outputs": []
    },
    {
      "cell_type": "markdown",
      "source": [
        "d) Now add a curve to the plot in c) where the service times are constant with the same vaule as the means of the other plots. Explain what you observe. [4 pts]"
      ],
      "metadata": {
        "id": "LYS75c5reAcd"
      }
    },
    {
      "cell_type": "code",
      "source": [],
      "metadata": {
        "id": "9eYDVqWzegVP"
      },
      "execution_count": null,
      "outputs": []
    },
    {
      "cell_type": "code",
      "source": [
        "Put your plot here"
      ],
      "metadata": {
        "id": "in3M5ziOeU2U"
      },
      "execution_count": null,
      "outputs": []
    },
    {
      "cell_type": "markdown",
      "source": [
        "Put your explanation here."
      ],
      "metadata": {
        "id": "AcbfshpBedlB"
      }
    }
  ]
}