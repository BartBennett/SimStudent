{
  "nbformat": 4,
  "nbformat_minor": 0,
  "metadata": {
    "colab": {
      "provenance": [],
      "include_colab_link": true
    },
    "kernelspec": {
      "name": "python3",
      "display_name": "Python 3"
    },
    "language_info": {
      "name": "python"
    }
  },
  "cells": [
    {
      "cell_type": "markdown",
      "metadata": {
        "id": "view-in-github",
        "colab_type": "text"
      },
      "source": [
        "<a href=\"https://colab.research.google.com/github/BartBennett/SimStudent/blob/main/Sim_2_Homework_2.ipynb\" target=\"_parent\"><img src=\"https://colab.research.google.com/assets/colab-badge.svg\" alt=\"Open In Colab\"/></a>"
      ]
    },
    {
      "cell_type": "markdown",
      "source": [
        "#SIMULATION 2\n",
        "##HOMEWORK 2: Queuing Examples\n",
        "\n",
        "Due: In class on Friday, June 9, 2023\n",
        "\n",
        "Name: Your name here\n",
        "\n",
        "Overall score: _____ / 38 pts"
      ],
      "metadata": {
        "id": "WUZYZOak1nrM"
      }
    },
    {
      "cell_type": "markdown",
      "source": [
        "1)\t[21 points] The Department of Motor Vehicle (DMV) would like to increase the efficiency of its operations.  Everyone coming into the DMV office must first wait in the \"sign-in\" line. Currently, they have 1 person who takes, on average, 5 minutes to perform the sign-in tasks.  Assume that, on average, 250 people enter the DMV during the business day from 8am to 5pm.  At 5pm, the doors are shut, but service continues until the last person is served.  Assume the inter-arrival and service times are exponentially distributed.\n",
        "\n",
        "a)\tWhat are the values for λ, μ, and s.  What is the value of ρ? What does this mean? [3 points]  \n"
      ],
      "metadata": {
        "id": "xpFLdAlxey2e"
      }
    },
    {
      "cell_type": "markdown",
      "source": [
        "Put your answer here"
      ],
      "metadata": {
        "id": "8dcQ4MVbfZhf"
      }
    },
    {
      "cell_type": "markdown",
      "source": [
        "b) Modify the MMS queueing simulation I showed you in class so that the main portion of the code is moved to a function and a new main with a replication loop so that the outcomes for \"multiple days\" can be calculated.  [2 points]"
      ],
      "metadata": {
        "id": "NdFCf-1C655B"
      }
    },
    {
      "cell_type": "code",
      "source": [
        "Provide your code here"
      ],
      "metadata": {
        "id": "Ji9gRxg38Efu"
      },
      "execution_count": null,
      "outputs": []
    },
    {
      "cell_type": "markdown",
      "source": [
        "\n",
        "c) We what to determine how long, on average, people wait in line before getting service and how many people are in the system at 5pm.  Do 100 replications of a DMV day and provide a box plot (from pyplots) with the results. [3 points]"
      ],
      "metadata": {
        "id": "LAn0FeD5fxMr"
      }
    },
    {
      "cell_type": "code",
      "source": [
        "Provide your pyplot code and results here"
      ],
      "metadata": {
        "id": "xHSfEg4q6DNL"
      },
      "execution_count": null,
      "outputs": []
    },
    {
      "cell_type": "markdown",
      "source": [
        "The DMV is thinking about adding 2 extra sign-in stations.  They realize they could design the line for the sign-in process in two ways.  The first way is to have a single line with the person at the head of the line served by the next available server (a single-channel queue).  The second way is to have people line up behind one of the servers when they first come in (a multi-channel queue).  Let's assume that no one gets discouraged and leaves (either balking or reneging) and everyone stays in the line they initially join (no jockeying).\n",
        "\n",
        "d) Add 2 exra sign-in stations and do 100 replications of a DMV day.  Provide a box plot comparing the results with 1 sign-in station to the results from 3. [2 points]\n"
      ],
      "metadata": {
        "id": "t0xKvvnIgeHs"
      }
    },
    {
      "cell_type": "code",
      "source": [
        "Provide your plotting code and plot here"
      ],
      "metadata": {
        "id": "kcTtgVOUfYiF"
      },
      "execution_count": null,
      "outputs": []
    },
    {
      "cell_type": "markdown",
      "source": [
        "e) Consider creating a multi-channel queueing version of the 3 sign-in station DMV simulation to calculate the average wait time and the number of people in line at 5pm.  What changes, if any, will need to be made to the entities? The resources? The events? The attributes? The Sets? The system state? Simulation clock? The initiaization routine? The timing routine? The event routines? The statistical counters? [5 points] (Hint: Use a list of lists to hold the people in line behind each sign-in station.)"
      ],
      "metadata": {
        "id": "MkgboWZk_LMs"
      }
    },
    {
      "cell_type": "markdown",
      "source": [
        "[Provide your answer here]"
      ],
      "metadata": {
        "id": "ogQ4DXPfA5wE"
      }
    },
    {
      "cell_type": "markdown",
      "source": [
        "f) Make these changes to the MMS simulation you used in d)."
      ],
      "metadata": {
        "id": "yMTMYBWHA-NO"
      }
    },
    {
      "cell_type": "code",
      "source": [
        "Provide your code Here"
      ],
      "metadata": {
        "id": "mXQYGV5L_KYL"
      },
      "execution_count": null,
      "outputs": []
    },
    {
      "cell_type": "markdown",
      "source": [
        "g) Do 100 replications with the model in e). Provide a box plot comparing the results with 1 sign-in station and the single-channel 3 sign-in station in d). [2 points]"
      ],
      "metadata": {
        "id": "dLTpXV48CDm5"
      }
    },
    {
      "cell_type": "code",
      "source": [
        "Provide your plotting code and plot here"
      ],
      "metadata": {
        "id": "-tqw_ZBkCCzm"
      },
      "execution_count": null,
      "outputs": []
    },
    {
      "cell_type": "markdown",
      "source": [
        "h) Describe how you will set up a simulation experiment to obtain observations for comparing the single- and multi-channel systems. What method do yo use to determine a statistically valid result? [2 points]"
      ],
      "metadata": {
        "id": "eXZXHbFUDAXk"
      }
    },
    {
      "cell_type": "markdown",
      "source": [
        "Put your answer here."
      ],
      "metadata": {
        "id": "qGwbXTdVDFjV"
      }
    },
    {
      "cell_type": "markdown",
      "source": [
        "i) Which system is better? Why? [2 points]"
      ],
      "metadata": {
        "id": "wAo6bCtJjQjr"
      }
    },
    {
      "cell_type": "markdown",
      "source": [
        "Put your answer here"
      ],
      "metadata": {
        "id": "2V7ppb7ujbNY"
      }
    },
    {
      "cell_type": "markdown",
      "source": [
        "2) [17 points] Consider the simple ED simultion we talked about in class.  "
      ],
      "metadata": {
        "id": "L7sByvThDo2-"
      }
    },
    {
      "cell_type": "markdown",
      "source": [
        "a) Change the simulation to include that all patients balk if the number in the waiting room (in line for the registrar, waiting for the triage nurse, waiting for a bed) is larger than 10.  Describe the changes you need to make to the code. [4 points]"
      ],
      "metadata": {
        "id": "69WmhczGF48Y"
      }
    },
    {
      "cell_type": "markdown",
      "source": [
        "Put your answer here."
      ],
      "metadata": {
        "id": "Rrsp6NrtGdW0"
      }
    },
    {
      "cell_type": "code",
      "source": [
        "Put your code here"
      ],
      "metadata": {
        "id": "qHMA7T-qDnHQ"
      },
      "execution_count": null,
      "outputs": []
    },
    {
      "cell_type": "markdown",
      "source": [
        "b) Run this new version of the code for 1 year.  What percentage of the patients balk?  How does this change the average wait time for patients that are released or sent to the hospital at the end of the ED processed [2 points]?"
      ],
      "metadata": {
        "id": "BFmhB7cSG1r2"
      }
    },
    {
      "cell_type": "markdown",
      "source": [
        "Put your answer here."
      ],
      "metadata": {
        "id": "6qz4TfSsHZU1"
      }
    },
    {
      "cell_type": "markdown",
      "source": [
        "c) Additionally, include that patients reneg after a 2 hour wait in the waiting room.  The best way to do this is to add a new event.  Make the following changes:\\\n",
        "  i) When each patient arrives, a reneging event is scheduled (added to the event queue). [1 point]"
      ],
      "metadata": {
        "id": "6tgCjmPoHchy"
      }
    },
    {
      "cell_type": "code",
      "source": [
        "Put code changes here"
      ],
      "metadata": {
        "id": "2oaWoKJJG1Sl"
      },
      "execution_count": null,
      "outputs": []
    },
    {
      "cell_type": "markdown",
      "source": [
        "  ii) Modify the patient object to include which process the patient is in. [1 point]"
      ],
      "metadata": {
        "id": "Vdyi5keQJkZo"
      }
    },
    {
      "cell_type": "code",
      "source": [
        "Put code changes here"
      ],
      "metadata": {
        "id": "BrEyGUzSJj66"
      },
      "execution_count": null,
      "outputs": []
    },
    {
      "cell_type": "markdown",
      "source": [
        "  iii) Modify the patient arrival and departure events to include updating the process the patient is in or waiting for. [2 point]"
      ],
      "metadata": {
        "id": "roW6GIlKJrtm"
      }
    },
    {
      "cell_type": "code",
      "source": [
        "Put code changes here"
      ],
      "metadata": {
        "id": "PGtGBExZJrRO"
      },
      "execution_count": null,
      "outputs": []
    },
    {
      "cell_type": "markdown",
      "source": [
        "  iv) Add a reneging event (function). When this occurs, determine if the patient is in a queue or being served (in line for the registrar, waiting for triage, or waiting for a bed).  Find the person in the queue and remove them. [2 points]"
      ],
      "metadata": {
        "id": "oTk5likQJvjc"
      }
    },
    {
      "cell_type": "code",
      "source": [
        "Put code changes here"
      ],
      "metadata": {
        "id": "kjeL7HH2JvBl"
      },
      "execution_count": null,
      "outputs": []
    },
    {
      "cell_type": "markdown",
      "source": [
        "v) If the patient is being served by the registrar or triage nurse, getting rid of them and freeing up the resource involves some tricky coding (if you don't believe me, try it!) Additionally, it doesn't happen hardly at all since these two processes are relatively quick.  So, let's just pretend, the patient is willing to wait another hour before reneging.  The current reneg event will be removed by the current code after the event is processed.  So, add a new patient reneg event one hour after the patient's former reneg event. [2 points]"
      ],
      "metadata": {
        "id": "G8uwLaPRKGzd"
      }
    },
    {
      "cell_type": "code",
      "source": [
        "Put code changes here"
      ],
      "metadata": {
        "id": "cZRYmMyrMZRr"
      },
      "execution_count": null,
      "outputs": []
    },
    {
      "cell_type": "markdown",
      "source": [
        "d) Provide your full code. Run the model for 1 year.  How many patient reneg? How many balk? What is the average queue wait time for patients that are released or sent to the hospital at the end of the ED processed? [3 points]"
      ],
      "metadata": {
        "id": "99xHAx9wMgwU"
      }
    },
    {
      "cell_type": "markdown",
      "source": [
        "Put the answer to the questions here."
      ],
      "metadata": {
        "id": "LssFWio4Nchf"
      }
    },
    {
      "cell_type": "code",
      "source": [
        "Put your code here"
      ],
      "metadata": {
        "id": "M9BsI380MgbO"
      },
      "execution_count": null,
      "outputs": []
    }
  ]
}