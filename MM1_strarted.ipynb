{
  "nbformat": 4,
  "nbformat_minor": 0,
  "metadata": {
    "colab": {
      "provenance": [],
      "authorship_tag": "ABX9TyMCa/FfugfW3racfb3JpwOV",
      "include_colab_link": true
    },
    "kernelspec": {
      "name": "python3",
      "display_name": "Python 3"
    },
    "language_info": {
      "name": "python"
    }
  },
  "cells": [
    {
      "cell_type": "markdown",
      "metadata": {
        "id": "view-in-github",
        "colab_type": "text"
      },
      "source": [
        "<a href=\"https://colab.research.google.com/github/BartBennett/SimStudent/blob/main/MM1_strarted.ipynb\" target=\"_parent\"><img src=\"https://colab.research.google.com/assets/colab-badge.svg\" alt=\"Open In Colab\"/></a>"
      ]
    },
    {
      "cell_type": "code",
      "execution_count": 2,
      "metadata": {
        "id": "3tForqX1kP5J"
      },
      "outputs": [],
      "source": [
        "import numpy as np\n",
        "import matplotlib.pyplot as plt"
      ]
    },
    {
      "cell_type": "code",
      "source": [
        "#system state\n",
        "number_in_the_system = 0\n",
        "\n",
        "#entity attributes\n",
        "customer_ID = 0\n",
        "arrival_time = []\n",
        "service_time = []\n",
        "departure_time = []\n",
        "\n",
        "#resource\n",
        "person_served = -1\n",
        "rho = 0 #server utilization\n",
        "last_departure = 0\n",
        "\n",
        "#events\n",
        "next_arrival = np.random.exponential(3.0)\n",
        "next_departure = next_arrival + np.random.exponential(2.0)\n",
        "\n",
        "#sets\n",
        "queue = []\n",
        "\n",
        "#timing\n",
        "max_time = 100000\n",
        "sim_time = 0\n",
        "\n",
        "while next_arrival <= max_time or next_departure <= max_time:\n",
        "    if next_arrival <= next_departure:\n",
        "        sim_time = next_arrival\n",
        "        number_in_the_system = number_in_the_system + 1\n",
        "\n",
        "        arrival_time = np.append(arrival_time, sim_time)\n",
        "        next_arrival = sim_time + np.random.exponential(3.0)\n",
        "        if number_in_the_system == 1:\n",
        "            person_served = customer_ID\n",
        "            service_time = np.append(service_time, sim_time)\n",
        "            rho = rho + sim_time - last_departure\n",
        "            next_departure = sim_time + np.random.exponential(2.0)\n",
        "        else:\n",
        "\n",
        "\n",
        "    else:\n",
        " \n",
        "\n",
        "        "
      ],
      "metadata": {
        "id": "9ZPZv8llzWWW"
      },
      "execution_count": null,
      "outputs": []
    }
  ]
}