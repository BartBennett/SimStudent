{
  "nbformat": 4,
  "nbformat_minor": 0,
  "metadata": {
    "colab": {
      "provenance": [],
      "authorship_tag": "ABX9TyMxpXtwpAbATPm6Mchz0VsN",
      "include_colab_link": true
    },
    "kernelspec": {
      "name": "python3",
      "display_name": "Python 3"
    },
    "language_info": {
      "name": "python"
    }
  },
  "cells": [
    {
      "cell_type": "markdown",
      "metadata": {
        "id": "view-in-github",
        "colab_type": "text"
      },
      "source": [
        "<a href=\"https://colab.research.google.com/github/BartBennett/SimStudent/blob/main/MMs.ipynb\" target=\"_parent\"><img src=\"https://colab.research.google.com/assets/colab-badge.svg\" alt=\"Open In Colab\"/></a>"
      ]
    },
    {
      "cell_type": "code",
      "execution_count": 3,
      "metadata": {
        "id": "3tForqX1kP5J"
      },
      "outputs": [],
      "source": [
        "import numpy as np\n",
        "import matplotlib.pyplot as plt"
      ]
    },
    {
      "cell_type": "code",
      "source": [
        "#system state\n",
        "number_in_the_system = np.zeros(1)\n",
        "\n",
        "#entity attributes\n",
        "class customer:\n",
        "    def __init__(self, customer_ID, arrival_time, service_time, departure_time):\n",
        "        self.customer_ID = int(customer_ID)\n",
        "        self.arrival_time = arrival_time\n",
        "        self.service_time = service_time\n",
        "        self.departure_time = departure_time\n",
        "\n",
        "customers = []\n",
        "\n",
        "#resource\n",
        "servers = 1\n",
        "servers_idle_time = 0\n",
        "\n",
        "#events\n",
        "class event:\n",
        "    def __init__(self, sim_time, event_type, customer_ID):\n",
        "        self.sim_time = sim_time\n",
        "        self.event_type = event_type\n",
        "        self.customer_ID = int(customer_ID)\n",
        "\n",
        "event_queue = []\n",
        "event_queue.append(event(np.random.exponential(3.0), \"Arrival\", 0))\n",
        "servers_idle_time = event_queue[0].sim_time * servers\n",
        "\n",
        "#sets\n",
        "queue = []\n",
        "number_in_the_queue = np.zeros(1)\n",
        "queue_time = np.zeros(1)\n",
        "\n",
        "#timing\n",
        "max_time = 10000\n",
        "sim_time = np.zeros(1)\n",
        "\n",
        "while event_queue[0].sim_time <= max_time:\n",
        "    sim_time = np.append(sim_time, event_queue[0].sim_time)\n",
        "    if event_queue[0].event_type == 'Arrival':\n",
        "        #Change system state\n",
        "        number_in_the_system = np.append(number_in_the_system, number_in_the_system[-1]+1)\n",
        "        #Create record for customer just arriving\n",
        "        customers = np.append(customers, customer(event_queue[0].customer_ID, sim_time[-1], 0, 0))\n",
        "        #Schedule the arrival for the next customer\n",
        "        event_queue.append(event(sim_time[-1] + np.random.exponential(3.0), \"Arrival\", event_queue[0].customer_ID+1))\n",
        "        #Arrival and immediate service\n",
        "        if number_in_the_system[-1] <= servers:\n",
        "            #print(\"Time: \", sim_time[-1], \" Arrival with immediate service: \", event_queue[0].customer_ID)\n",
        "            #Add the service_time to the customer's record\n",
        "            customers[-1].service_time = sim_time[-1]\n",
        "            #Schedule this customer's departure\n",
        "            event_queue.append(event(sim_time[-1] + np.random.exponential(2.0), \"Departure\", event_queue[0].customer_ID))\n",
        "            #Calculate idle time for serevers for every customer except the first\n",
        "            if len(customers) > 1:\n",
        "                servers_idle_time += (sim_time[-1] - sim_time[-2]) * (servers - number_in_the_system[-2])\n",
        "        #Arrival and wait in the queue\n",
        "        else:\n",
        "            #print(\"Time: \", sim_time[-1], \" Arrival, waiting in queue: \", event_queue[0].customer_ID)\n",
        "            #Add customer to queue\n",
        "            queue = np.append(queue, event_queue[0].customer_ID)\n",
        "            #Increment the number in the queue\n",
        "            number_in_the_queue = np.append(number_in_the_queue, number_in_the_queue[-1]+1)\n",
        "            #Add the sim_time for plotting the queue length\n",
        "            queue_time = np.append(queue_time, sim_time[-1])\n",
        "    else:\n",
        "        #Change system state\n",
        "        number_in_the_system = np.append(number_in_the_system, number_in_the_system[-1]-1)\n",
        "        #Add the deparure time to the customer's record\n",
        "        customers[event_queue[0].customer_ID].departure_time = sim_time[-1]\n",
        "        #Departure with the next person in the queue served\n",
        "        if number_in_the_system[-1] >= servers:\n",
        "            #print(\"Time: \", sim_time[-1], \" Departure: \", event_queue[0].customer_ID, \" Serving: \", queue[0])\n",
        "            #Add service time for customer who was in the queue\n",
        "            customers[int(queue[0])].service_time = sim_time[-1]\n",
        "            #Schedule the departure for this customer\n",
        "            event_queue.append(event(sim_time[-1] + np.random.exponential(2.0), \"Departure\", queue[0]))\n",
        "            #Remove this customer from the queue\n",
        "            queue = np.delete(queue, 0)\n",
        "            #Decrement the number in the queue\n",
        "            number_in_the_queue = np.append(number_in_the_queue, number_in_the_queue[-1]-1)\n",
        "            #Add the sim_time for plotting the queue length\n",
        "            queue_time = np.append(queue_time, sim_time[-1])\n",
        "        #Departure with the next person with no one in the queue\n",
        "        else:\n",
        "            #print(\"Time: \", sim_time[-1], \" Departure: \", event_queue[0].customer_ID, \" system empty\")\n",
        "            #Calculate idle time\n",
        "            servers_idle_time += (sim_time[-1] - sim_time[-2]) * (servers - number_in_the_system[-2])\n",
        "    #Delete event just processed\n",
        "    del event_queue[0]\n",
        "    #Sort the event queue\n",
        "    event_queue.sort(key = lambda x : x.sim_time) \n",
        "\n",
        "last_arrived = customers[-1].customer_ID\n",
        "last_served = last_arrived\n",
        "while customers[last_served].service_time == 0:\n",
        "    last_served -= 1\n",
        "last_departed = last_served   \n",
        "while customers[last_departed].departure_time == 0:\n",
        "    last_departed -= 1\n",
        "\n",
        "sum_person_time = sum(customers[c].departure_time - customers[c].arrival_time for c in range(0,last_departed))\n",
        "sum_person_queue_time = sum(customers[c].service_time - customers[c].arrival_time for c in range(0,last_served))\n",
        "print(\"L = \",sum_person_time/customers[last_departed].departure_time)\n",
        "print(\"Lq = \",sum_person_queue_time/customers[last_served].service_time)\n",
        "print(\"W = \",sum_person_time/last_departed)\n",
        "print(\"Wq = \",sum_person_queue_time/last_served)\n",
        "print(\"rho = \", 1 - servers_idle_time/max_time/servers)"
      ],
      "metadata": {
        "id": "9ZPZv8llzWWW",
        "outputId": "8cb7de41-f8c8-42ff-a107-1ea829df7d2e",
        "colab": {
          "base_uri": "https://localhost:8080/"
        }
      },
      "execution_count": 26,
      "outputs": [
        {
          "output_type": "stream",
          "name": "stdout",
          "text": [
            "L =  2.178941131564454\n",
            "Lq =  1.502690701463391\n",
            "W =  6.528398721461335\n",
            "Wq =  4.501763789187939\n",
            "rho =  0.6766858705659594\n"
          ]
        }
      ]
    },
    {
      "cell_type": "code",
      "source": [
        "plt.step(sim_time, number_in_the_system, where='post', label='System')\n",
        "plt.step(queue_time, number_in_the_queue, where='post', label='Queue')\n",
        "plt.grid(axis='y', color='0.95')\n",
        "plt.legend(title='Number in the:')\n",
        "plt.show()"
      ],
      "metadata": {
        "colab": {
          "base_uri": "https://localhost:8080/",
          "height": 430
        },
        "id": "FR6BIPFLfod2",
        "outputId": "47ec2b8d-aa34-4a8e-ce64-0467fe724ed4"
      },
      "execution_count": 19,
      "outputs": [
        {
          "output_type": "display_data",
          "data": {
            "text/plain": [
              "<Figure size 640x480 with 1 Axes>"
            ],
            "image/png": "[encoded data removed]"
          },
          "metadata": {}
        }
      ]
    },
    {
      "cell_type": "code",
      "source": [
        "people_time = 0\n",
        "L = np.zeros(1)\n",
        "for i in range(1, len(sim_time)):\n",
        "    people_time += number_in_the_system[i-1] * (sim_time[i] - sim_time[i-1])\n",
        "    L = np.append(L, people_time/sim_time[i])\n",
        "plt.step(sim_time, L, where='post', label='Average Number in the System')\n",
        "plt.grid(axis='y', color='0.95')\n",
        "plt.show()"
      ],
      "metadata": {
        "colab": {
          "base_uri": "https://localhost:8080/",
          "height": 430
        },
        "id": "dqCPcuM9ekww",
        "outputId": "f408c8ff-43e6-454a-8d44-bcd334aa5d7b"
      },
      "execution_count": 20,
      "outputs": [
        {
          "output_type": "display_data",
          "data": {
            "text/plain": [
              "<Figure size 640x480 with 1 Axes>"
            ],
            "image/png": "[encoded data removed]"
          },
          "metadata": {}
        }
      ]
    }
  ]
}